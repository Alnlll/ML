{
 "cells": [
  {
   "cell_type": "code",
   "execution_count": 1,
   "metadata": {
    "collapsed": true
   },
   "outputs": [],
   "source": [
    "import sys\n",
    "import os\n",
    "\n",
    "if not os.getcwd() in sys.path:\n",
    "    sys.path.append(\"%s/../..\" % os.getcwd())"
   ]
  },
  {
   "cell_type": "code",
   "execution_count": 21,
   "metadata": {},
   "outputs": [
    {
     "name": "stdout",
     "output_type": "stream",
     "text": [
      "The autoreload extension is already loaded. To reload it, use:\n",
      "  %reload_ext autoreload\n"
     ]
    }
   ],
   "source": [
    "import numpy as np\n",
    "import tensorflow as tf\n",
    "from tensorflow.python.framework import ops\n",
    "import matplotlib.pyplot as plt\n",
    "from arsenal.data_process.load_data import DataLoader\n",
    "from arsenal.data_process.plot_data import Ploter\n",
    "from arsenal.common.basic_tool import random_mini_batches\n",
    "\n",
    "%load_ext autoreload\n",
    "%autoreload 2\n",
    "\n",
    "np.random.seed(1)"
   ]
  },
  {
   "cell_type": "markdown",
   "metadata": {},
   "source": [
    "## 1、加载训练集和测试集数据"
   ]
  },
  {
   "cell_type": "code",
   "execution_count": 3,
   "metadata": {},
   "outputs": [
    {
     "name": "stdout",
     "output_type": "stream",
     "text": [
      "keys of train set:  ['list_classes', 'train_set_x', 'train_set_y']\n",
      "keys of test set:  ['list_classes', 'test_set_x', 'test_set_y']\n",
      "Shape of X of train set:  (1080, 64, 64, 3)\n",
      "Shape of Y of train set:  (1, 1080)\n",
      "Shape of X of test set:  (120, 64, 64, 3)\n",
      "Shape of Y of test set:  (1, 120)\n"
     ]
    },
    {
     "data": {
      "image/png": "[encoded data removed]",
      "text/plain": [
       "<matplotlib.figure.Figure at 0x175f1974160>"
      ]
     },
     "metadata": {},
     "output_type": "display_data"
    },
    {
     "name": "stdout",
     "output_type": "stream",
     "text": [
      "y =  2\n"
     ]
    }
   ],
   "source": [
    "data_train, key_lst_train = DataLoader().load(\"./data/train_signs.h5\")\n",
    "data_test, key_lst_test = DataLoader().load(\"./data/test_signs.h5\")\n",
    "print(\"keys of train set: \", key_lst_train)\n",
    "print(\"keys of test set: \", key_lst_test)\n",
    "\n",
    "X_train_orig, Y_train_orig = np.array(data_train[\"train_set_x\"]), np.array([data_train[\"train_set_y\"]])\n",
    "X_test_orig, Y_test_orig = np.array(data_test[\"test_set_x\"]), np.array([data_test[\"test_set_y\"]])\n",
    "\n",
    "print(\"Shape of X of train set: \", X_train_orig.shape)\n",
    "print(\"Shape of Y of train set: \", Y_train_orig.shape)\n",
    "print(\"Shape of X of test set: \", X_test_orig.shape)\n",
    "print(\"Shape of Y of test set: \", Y_test_orig.shape)\n",
    "\n",
    "index = 10\n",
    "\n",
    "ploter = Ploter()\n",
    "ploter.show_image(X_train_orig[index])\n",
    "ploter.title(\"Sign of index %s\" % (index))\n",
    "ploter.show()\n",
    "print(\"y = \", str(np.squeeze(Y_train_orig[:, index])))"
   ]
  },
  {
   "cell_type": "markdown",
   "metadata": {},
   "source": [
    "## 2、数据预处理（归一化、变形为计算用）"
   ]
  },
  {
   "cell_type": "code",
   "execution_count": 4,
   "metadata": {},
   "outputs": [
    {
     "name": "stdout",
     "output_type": "stream",
     "text": [
      "Shape of X_train:  (1080, 64, 64, 3)\n",
      "Shape of Y_train:  (1080, 6)\n",
      "Shape of X_test:  (120, 64, 64, 3)\n",
      "Shape of Y_test:  (120, 6)\n"
     ]
    }
   ],
   "source": [
    "# 计算最终损失函数需要one-hot形式的数据\n",
    "def convert_to_one_hot(Y, C):\n",
    "    return np.eye(C)[Y.reshape(-1)].T\n",
    "\n",
    "X_train = X_train_orig / 255\n",
    "X_test = X_test_orig / 255\n",
    "Y_train = convert_to_one_hot(Y_train_orig, 6).T # 共五种手势\n",
    "Y_test = convert_to_one_hot(Y_test_orig, 6).T\n",
    "\n",
    "print(\"Shape of X_train: \", X_train.shape)\n",
    "print(\"Shape of Y_train: \", Y_train.shape)\n",
    "print(\"Shape of X_test: \", X_test.shape)\n",
    "print(\"Shape of Y_test: \", Y_test.shape)"
   ]
  },
  {
   "cell_type": "markdown",
   "metadata": {},
   "source": [
    "## 3、模型介绍\n",
    "\n",
    "X->CONV2D -> RELU -> MAXPOOL -> CONV2D -> RELU -> MAXPOOL -> FLATTEN -> FULLYCONNECTED->Sigmoid->Y"
   ]
  },
  {
   "cell_type": "markdown",
   "metadata": {},
   "source": [
    "## 4、设定模型参数\n",
    "* 卷积\n",
    "    卷积核尺寸，步长，padding模式(Same or Valid), padding用数值\n",
    "* pool\n",
    "    池化窗口尺寸、步长，模式(Max or Mean)"
   ]
  },
  {
   "cell_type": "code",
   "execution_count": 5,
   "metadata": {
    "collapsed": true
   },
   "outputs": [],
   "source": [
    "map = {\n",
    "    'L0':{\n",
    "        'cache':{\n",
    "            'A': None, # 输入\n",
    "        },\n",
    "    },\n",
    "\n",
    "    'L1':{\n",
    "        'op_list': ['conv', 'activation', 'pool'],\n",
    "        'conv':{\n",
    "            'stride': 1,\n",
    "            'cshape': [4, 4, None, 8], # [4, 4, 3, 8]\n",
    "            'padding': 'SAME',\n",
    "            'p_val': 0,\n",
    "        },\n",
    "        'activation': 'relu',\n",
    "        'pool':{\n",
    "            'stride': 8,\n",
    "            'pshape': [8, 8],\n",
    "            'mode': 'max',\n",
    "            'padding': 'SAME',\n",
    "        },\n",
    "\n",
    "        'cache':{},\n",
    "    },\n",
    "\n",
    "    'L2':{\n",
    "        'op_list': ['conv', 'activation', 'pool'],\n",
    "        'conv':{\n",
    "            'stride': 1,\n",
    "            'cshape': [2, 2, None, 16], # [2, 2, 8, 16]\n",
    "            'padding': 'SAME',\n",
    "            'p_val': 0,\n",
    "        },\n",
    "        'activation': 'relu',\n",
    "        'pool':{\n",
    "            'stride': 4,\n",
    "            'pshape': [4, 4],\n",
    "            'mode': 'max',\n",
    "            'padding': 'SAME'\n",
    "        },\n",
    "        \n",
    "        'cache':{},\n",
    "    },\n",
    "    \"L3\":{\n",
    "        'op_list': ['flatten'],\n",
    "        'cache':{},\n",
    "    },\n",
    "    \"L4\":{\n",
    "        'op_list': ['fc'],\n",
    "        'cache':{},\n",
    "    },\n",
    "}"
   ]
  },
  {
   "cell_type": "markdown",
   "metadata": {},
   "source": [
    "## 5、初始化参数"
   ]
  },
  {
   "cell_type": "code",
   "execution_count": 6,
   "metadata": {
    "collapsed": true
   },
   "outputs": [],
   "source": [
    "def create_placeholders(n_h0, n_w0, n_c0, n_y):\n",
    "    X = tf.placeholder('float', shape=[None, n_h0, n_w0, n_c0])\n",
    "    Y = tf.placeholder('float', shape=[None, n_y])\n",
    "    \n",
    "    return X, Y"
   ]
  },
  {
   "cell_type": "code",
   "execution_count": 7,
   "metadata": {},
   "outputs": [
    {
     "name": "stdout",
     "output_type": "stream",
     "text": [
      "X =  Tensor(\"Placeholder:0\", shape=(?, 64, 64, 3), dtype=float32)\n",
      "Y =  Tensor(\"Placeholder_1:0\", shape=(?, 6), dtype=float32)\n"
     ]
    }
   ],
   "source": [
    "X, Y = create_placeholders(64, 64, 3, 6)\n",
    "print (\"X = \", str(X))\n",
    "print (\"Y = \", str(Y))"
   ]
  },
  {
   "cell_type": "code",
   "execution_count": 47,
   "metadata": {
    "collapsed": true
   },
   "outputs": [],
   "source": [
    "def initialize_params(map, seed=1):\n",
    "    tf.set_random_seed(seed)\n",
    "    \n",
    "    L = len(map.keys()) - 3 # 去除输入、flatten、fc层\n",
    "    \n",
    "    for l in range(1, L+1):\n",
    "        params = map[\"L\"+str(l)]\n",
    "        \n",
    "        A_prev = map['L'+str(l-1)]['cache']['A']\n",
    "        (m, n_h_prev, n_w_prev, n_c_prev) = A_prev.shape\n",
    "        (n_ch, n_cw, _, n_c) = params['conv']['cshape']\n",
    "        params['cache']['W'] = tf.get_variable('W'+str(l),\n",
    "                                               [n_ch, n_cw, n_c_prev, n_c],\n",
    "                                               initializer=tf.contrib.layers.xavier_initializer(seed=0))\n",
    "        params['cache']['b'] = tf.get_variable('b'+str(l),\n",
    "                                               [1, 1, 1, n_c], \n",
    "                                               initializer=tf.contrib.layers.xavier_initializer(seed=0))\n",
    "        \n",
    "        ops = params['op_list']\n",
    "        n_h, n_w = n_h_prev, n_w_prev\n",
    "        for op in ops:\n",
    "            if 'conv' == op:\n",
    "                padding_mode =  params['conv']['padding']\n",
    "                if 'VALID' == padding_mode:\n",
    "                    stride = params['conv']['stride']\n",
    "                    n_h, n_w = (n_h-n_ch)//stride+1, (n_w-n_cw)//stride+1\n",
    "            if 'activation' == op:\n",
    "                n_h, n_w = n_h, n_w\n",
    "            if 'pool' == op:\n",
    "                padding_mode = params['pool']['padding']\n",
    "                if 'VALID' == padding_mode:\n",
    "                    stride = params['pool']['stride']\n",
    "                    (n_ph, n_pw) = params['pool']['pshape']\n",
    "                    n_h, n_w = (n_h-n_ph)//stride+1, (n_w-n_pw)//stride+1\n",
    "        \n",
    "        params['cache']['A'] = tf.zeros((m, n_h, n_w, n_c), name='A'+str(l))"
   ]
  },
  {
   "cell_type": "code",
   "execution_count": 48,
   "metadata": {},
   "outputs": [
    {
     "name": "stdout",
     "output_type": "stream",
     "text": [
      "W1 =  [ 0.00131723  0.14176141 -0.04434952  0.09197326  0.14984085 -0.03514394\n",
      " -0.06847463  0.05245192]\n",
      "W2 =  [-0.08566415  0.17750949  0.11974221  0.16773748 -0.0830943  -0.08058\n",
      " -0.00577033 -0.14643836  0.24162132 -0.05857408 -0.19055021  0.1345228\n",
      " -0.22779644 -0.1601823  -0.16117483 -0.10286498]\n",
      "W1 shape:  (4, 4, 3, 8)\n",
      "W2 shape:  (2, 2, 8, 16)\n",
      "b1 shape:  (1, 1, 1, 8)\n",
      "b2 shape:  (1, 1, 1, 16)\n",
      "A0 shape:  (120, 64, 64, 3)\n",
      "A1 shape:  (120, 64, 64, 8)\n",
      "A2 shape:  (120, 64, 64, 16)\n"
     ]
    }
   ],
   "source": [
    "map['L0']['cache']['A'] = X_test\n",
    "tf.reset_default_graph()\n",
    "with tf.Session() as sess_test:\n",
    "    initialize_params(map)\n",
    "    init = tf.global_variables_initializer()\n",
    "    sess_test.run(init)\n",
    "    print(\"W1 = \", str(map['L1'][\"cache\"]['W'].eval()[1,1,1]))\n",
    "    print(\"W2 = \", str(map['L2'][\"cache\"]['W'].eval()[1,1,1]))\n",
    "    print(\"W1 shape: \", map['L1'][\"cache\"]['W'].shape)\n",
    "    print(\"W2 shape: \", map['L2'][\"cache\"]['W'].shape)\n",
    "    print(\"b1 shape: \", map['L1'][\"cache\"]['b'].shape)\n",
    "    print(\"b2 shape: \", map['L2'][\"cache\"]['b'].shape)\n",
    "    print(\"A0 shape: \", map['L0'][\"cache\"]['A'].shape)\n",
    "    print(\"A1 shape: \", map['L1'][\"cache\"]['A'].shape)\n",
    "    print(\"A2 shape: \", map['L2'][\"cache\"]['A'].shape)\n",
    "    #print(map)"
   ]
  },
  {
   "cell_type": "markdown",
   "metadata": {},
   "source": [
    "## 6、前向传播"
   ]
  },
  {
   "cell_type": "code",
   "execution_count": 37,
   "metadata": {
    "collapsed": true
   },
   "outputs": [],
   "source": [
    "def forward_propagation(X, map, n_y_class):\n",
    "    \n",
    "    map['L0']['cache']['A'] = X\n",
    "    \n",
    "    L = len(map.keys()) - 1\n",
    "    \n",
    "    for l in range(1, L+1):\n",
    "        params = map['L'+str(l)]\n",
    "        A_prev = map['L'+str(l-1)]['cache']['A']\n",
    "        \n",
    "        ops = params['op_list']\n",
    "        A = A_prev\n",
    "        for op in ops:\n",
    "            #print(\"layer: \", l, \" \", op, \": \", A, \" shape: \", A.shape)\n",
    "            if 'conv' == op:\n",
    "                W = params['cache']['W']\n",
    "                b = params['cache']['b']\n",
    "                stride = params['conv']['stride']\n",
    "                padding_mode = params['conv']['padding']\n",
    "                A = tf.nn.conv2d(A, W, strides=[1,stride,stride,1], padding=padding_mode) + b\n",
    "            if 'activation' == op:\n",
    "                act_func = params['activation']\n",
    "                if \"relu\" == act_func:\n",
    "                    A = tf.nn.relu(A)\n",
    "                if \"sigmoid\" == act_func:\n",
    "                    A = tf.sigmoid(A)\n",
    "            if 'pool' == op:\n",
    "                mode = params['pool']['mode']\n",
    "                padding_mode = params['pool']['padding']\n",
    "                pshape = params['pool']['pshape']\n",
    "                stride = params['pool']['stride']\n",
    "                if \"max\" == mode:\n",
    "                    A = tf.nn.max_pool(A,\n",
    "                                       ksize=[1,pshape[0],pshape[1],1],\n",
    "                                       strides=[1,stride,stride,1],\n",
    "                                       padding='SAME')\n",
    "                if 'avg' == mode:\n",
    "                    A = tf.nn.avg_pool(A,\n",
    "                                       ksize=[1,pshape[0],pshape[1],1],\n",
    "                                       strides=[1,stride,stride,1],\n",
    "                                       padding=padding_mode)\n",
    "            if 'flatten' == op:\n",
    "                A = tf.contrib.layers.flatten(A)\n",
    "            if 'fc' == op:\n",
    "                A = tf.contrib.layers.fully_connected(A, n_y_class, activation_fn=None)\n",
    "                \n",
    "            #print(\"layer: \", l, \" \", op, \": \", A, \" shape: \", A.shape)\n",
    "        \n",
    "        params['cache']['A'] = A\n",
    "        #print('layer: ', l, map['L'+str(l)]['cache']['A'])\n",
    "        \n",
    "    return params['cache']['A']\n",
    "                "
   ]
  },
  {
   "cell_type": "code",
   "execution_count": 38,
   "metadata": {},
   "outputs": [
    {
     "name": "stdout",
     "output_type": "stream",
     "text": [
      "AL = [[ 5.55666304 -1.26528537 -0.56199872  2.28329372 -0.74298126  1.27531385]\n",
      " [ 5.36049891 -1.33965254 -0.96124303  2.41839457 -0.75064147  1.31371319]]\n"
     ]
    }
   ],
   "source": [
    "forward_pro_test_map = {\n",
    "    'L0':{\n",
    "        'cache':{\n",
    "            'A': None, # 输入\n",
    "        },\n",
    "    },\n",
    "\n",
    "    'L1':{\n",
    "        'op_list': ['conv', 'activation', 'pool'],\n",
    "        'conv':{\n",
    "            'stride': 1,\n",
    "            'cshape': [4, 4, None, 8], # [4, 4, 3, 8]\n",
    "            'padding': 'SAME',\n",
    "            'p_val': 0,\n",
    "        },\n",
    "        'activation': 'relu',\n",
    "        'pool':{\n",
    "            'stride': 8,\n",
    "            'pshape': [8, 8],\n",
    "            'mode': 'max',\n",
    "            'padding': 'SAME',\n",
    "        },\n",
    "\n",
    "        'cache':{},\n",
    "    },\n",
    "\n",
    "    'L2':{\n",
    "        'op_list': ['conv', 'activation', 'pool'],\n",
    "        'conv':{\n",
    "            'stride': 1,\n",
    "            'cshape': [2, 2, None, 16], # [2, 2, 8, 16]\n",
    "            'padding': 'SAME',\n",
    "            'p_val': 0,\n",
    "        },\n",
    "        'activation': 'relu',\n",
    "        'pool':{\n",
    "            'stride': 4,\n",
    "            'pshape': [4, 4],\n",
    "            'mode': 'max',\n",
    "            'padding': 'SAME'\n",
    "        },\n",
    "        \n",
    "        'cache':{},\n",
    "    },\n",
    "    \"L3\":{\n",
    "        'op_list': ['flatten'],\n",
    "        'cache':{},\n",
    "    },\n",
    "    \"L4\":{\n",
    "        'op_list': ['fc'],\n",
    "        'cache':{},\n",
    "    },\n",
    "}\n",
    "\n",
    "tf.reset_default_graph()\n",
    "\n",
    "with tf.Session() as sess:\n",
    "    np.random.seed(1)\n",
    "    X, Y = create_placeholders(64, 64, 3, 6)\n",
    "    forward_pro_test_map['L0']['cache']['A'] = X_test\n",
    "    initialize_params(forward_pro_test_map)\n",
    "    AL = forward_propagation(X, forward_pro_test_map, 6)\n",
    "    \n",
    "    init = tf.global_variables_initializer()\n",
    "    sess.run(init)\n",
    "    \n",
    "#     print(sess.run(forward_pro_test_map['L1']['cache']['W']).shape)\n",
    "#     print(sess.run(forward_pro_test_map['L2']['cache']['W']).shape)\n",
    "#     print(sess.run(forward_pro_test_map['L1']['cache']['W']))\n",
    "#     print(sess.run(forward_pro_test_map['L2']['cache']['W']))\n",
    "    \n",
    "    a = sess.run(AL, {X: np.random.randn(2,64,64,3), Y: np.random.randn(2,6)})\n",
    "    print(\"AL = \" + str(a))"
   ]
  },
  {
   "cell_type": "markdown",
   "metadata": {},
   "source": [
    "## 7、计算Loss"
   ]
  },
  {
   "cell_type": "code",
   "execution_count": 39,
   "metadata": {
    "collapsed": true
   },
   "outputs": [],
   "source": [
    "def compute_loss(AL, Y):\n",
    "    loss = tf.reduce_mean(tf.nn.softmax_cross_entropy_with_logits(logits=AL, labels=Y))\n",
    "    return loss"
   ]
  },
  {
   "cell_type": "code",
   "execution_count": 40,
   "metadata": {},
   "outputs": [
    {
     "name": "stdout",
     "output_type": "stream",
     "text": [
      "cost = 0.0431104947329\n"
     ]
    }
   ],
   "source": [
    "tf.reset_default_graph()\n",
    "\n",
    "with tf.Session() as sess:\n",
    "    np.random.seed(1)\n",
    "    X, Y = create_placeholders(64, 64, 3, 6)\n",
    "    Z3 = np.array([[-0.44670227, -1.57208765, -1.53049231, -2.31013036, -1.29104388, 0.46852064],\n",
    "                 [-0.17601591, -1.57972014, -1.4737016,  -2.61672091, -1.00810623, 0.57477844],\n",
    "                 [-0.05643788, -1.59197772, -1.26757252, -2.30188441, -1.37652016, 0.04895034],\n",
    "                 [-0.0433749, -1.69219863, -1.31829095, -2.01874852, -1.46148038, 0.11337087]])\n",
    "    loss = compute_loss(Z3, Y)\n",
    "    init = tf.global_variables_initializer()\n",
    "    sess.run(init)\n",
    "    a = sess.run(loss, {Y: np.random.randn(4,6)})\n",
    "    print(\"cost = \" + str(a))"
   ]
  },
  {
   "cell_type": "markdown",
   "metadata": {},
   "source": [
    "## 8、建立训练模型"
   ]
  },
  {
   "cell_type": "code",
   "execution_count": 51,
   "metadata": {
    "collapsed": true
   },
   "outputs": [],
   "source": [
    "def model(map, X_train, Y_train, X_test, Y_test, learning_rate=0.009,\n",
    "         num_epochs=100, minibatch_size=64, print_cost=True):\n",
    "    \n",
    "    ploter = Ploter()\n",
    "    map['L0']['cache']['A'] = X_train\n",
    "    \n",
    "    ops.reset_default_graph()\n",
    "    tf.set_random_seed(1)\n",
    "    seed = 3\n",
    "    (m, n_h0, n_w0, n_c0) = X_train.shape             \n",
    "    n_y = Y_train.shape[1]                            \n",
    "    losses = []\n",
    "    \n",
    "    X, Y = create_placeholders(n_h0, n_w0, n_c0, n_y)\n",
    "    initialize_params(map)\n",
    "    \n",
    "    AL = forward_propagation(X, map, n_y)\n",
    "    \n",
    "    loss = compute_loss(AL, Y)\n",
    "    \n",
    "    optimizer = tf.train.AdamOptimizer(learning_rate=learning_rate)\n",
    "    train = optimizer.minimize(loss)\n",
    "    \n",
    "    init = tf.global_variables_initializer()\n",
    "    \n",
    "    with tf.Session() as sess:\n",
    "        sess.run(init)\n",
    "        \n",
    "        for epoch in range(num_epochs):\n",
    "\n",
    "            minibatch_loss = 0.\n",
    "            num_minibatches = m // minibatch_size\n",
    "            seed = seed + 1\n",
    "            minibatches = random_mini_batches(X_train, Y_train, minibatch_size, seed)\n",
    "\n",
    "            for minibatch in minibatches:\n",
    "\n",
    "                (minibatch_X, minibatch_Y) = minibatch\n",
    "                # IMPORTANT: The line that runs the graph on a minibatch.\n",
    "                # Run the session to execute the optimizer and the cost, the feedict should contain a minibatch for (X,Y).\n",
    "                ### START CODE HERE ### (1 line)\n",
    "                _ , temp_loss = sess.run([train,loss], feed_dict={X:minibatch_X, Y:minibatch_Y})\n",
    "                ### END CODE HERE ###\n",
    "                \n",
    "                minibatch_loss += temp_loss / num_minibatches\n",
    "                \n",
    "\n",
    "            # Print the cost every epoch\n",
    "            if print_cost == True and epoch % 5 == 0:\n",
    "                print (\"Loss after epoch %i: %f\" % (epoch, minibatch_loss))\n",
    "            if print_cost == True and epoch % 1 == 0:\n",
    "                losses.append(minibatch_loss)\n",
    "        \n",
    "        \n",
    "        # plot the cost\n",
    "        ploter.plot(losses)\n",
    "        ploter.label(1, 'loss')\n",
    "        ploter.label(0, 'iterations (per tens)')\n",
    "        ploter.title(\"Learning rate =\" + str(learning_rate))\n",
    "        ploter.show()\n",
    "\n",
    "        # Calculate the correct predictions\n",
    "        predict_op = tf.argmax(AL, 1)\n",
    "        correct_prediction = tf.equal(predict_op, tf.argmax(Y, 1))\n",
    "        \n",
    "        # Calculate accuracy on the test set\n",
    "        accuracy = tf.reduce_mean(tf.cast(correct_prediction, \"float\"))\n",
    "        train_accuracy = accuracy.eval({X: X_train, Y: Y_train})\n",
    "        test_accuracy = accuracy.eval({X: X_test, Y: Y_test})\n",
    "        print(\"Train Accuracy:\", train_accuracy)\n",
    "        print(\"Test Accuracy:\", test_accuracy)\n",
    "                \n",
    "        return train_accuracy, test_accuracy"
   ]
  },
  {
   "cell_type": "code",
   "execution_count": 52,
   "metadata": {},
   "outputs": [
    {
     "name": "stdout",
     "output_type": "stream",
     "text": [
      "Loss after epoch 0: 1.927543\n",
      "Loss after epoch 5: 1.424566\n",
      "Loss after epoch 10: 0.913696\n",
      "Loss after epoch 15: 0.747439\n",
      "Loss after epoch 20: 0.599385\n",
      "Loss after epoch 25: 0.467615\n",
      "Loss after epoch 30: 0.392038\n",
      "Loss after epoch 35: 0.361558\n",
      "Loss after epoch 40: 0.332040\n",
      "Loss after epoch 45: 0.298857\n",
      "Loss after epoch 50: 0.251589\n",
      "Loss after epoch 55: 0.206081\n",
      "Loss after epoch 60: 0.205037\n",
      "Loss after epoch 65: 0.193679\n",
      "Loss after epoch 70: 0.181153\n",
      "Loss after epoch 75: 0.174469\n",
      "Loss after epoch 80: 0.128001\n",
      "Loss after epoch 85: 0.117240\n",
      "Loss after epoch 90: 0.105759\n",
      "Loss after epoch 95: 0.098463\n"
     ]
    },
    {
     "data": {
      "image/png": "[encoded data removed]",
      "text/plain": [
       "<matplotlib.figure.Figure at 0x1759315fef0>"
      ]
     },
     "metadata": {},
     "output_type": "display_data"
    },
    {
     "name": "stdout",
     "output_type": "stream",
     "text": [
      "Train Accuracy: 0.983333\n",
      "Test Accuracy: 0.875\n"
     ]
    }
   ],
   "source": [
    "_,_ = model(map, X_train, Y_train, X_test, Y_test)"
   ]
  },
  {
   "cell_type": "code",
   "execution_count": null,
   "metadata": {
    "collapsed": true
   },
   "outputs": [],
   "source": []
  }
 ],
 "metadata": {
  "kernelspec": {
   "display_name": "Python 3",
   "language": "python",
   "name": "python3"
  },
  "language_info": {
   "codemirror_mode": {
    "name": "ipython",
    "version": 3
   },
   "file_extension": ".py",
   "mimetype": "text/x-python",
   "name": "python",
   "nbconvert_exporter": "python",
   "pygments_lexer": "ipython3",
   "version": "3.6.3"
  }
 },
 "nbformat": 4,
 "nbformat_minor": 2
}
