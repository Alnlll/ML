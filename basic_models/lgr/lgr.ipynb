{
 "cells": [
  {
   "cell_type": "markdown",
   "metadata": {},
   "source": [
    "假设有如下数据集代表$y=(0,1)$两类不同数据\n",
    "![](./data/image/data1.png '输入数据')\n",
    "\n",
    "以$P(\\widehat{y}=1|x,w)$来表示$\\widehat{y}=1$的概率,而由于y的取值为0或1，有$P(\\widehat{y}=1|x,w) + P(\\widehat{y}=0|x,w) = 1$，Logistic regression方法用线性方程加Sigmoid函数限制($0 \\leq P \\leq 1$)的方式建立模型:\n",
    "\n",
    "$$\\mathit{h_w(x) = g(z)}$$\n",
    "\n",
    "$$\\mathit{g(z) = \\frac{1}{1 + e^{-z}}}$$\n",
    "\n",
    "$$\\mathit{z = w^Tx}$$\n",
    "\n",
    "然后使用阈值(threshold)来判断具体分类结果:\n",
    "\n",
    "$$\\mathit{y} = \\begin{cases} 0 \\qquad h_w(x) < threshold \\\\ 1 \\qquad h_w(x) \\geq threshold  \\end{cases}\\\\ $$\n",
    "\n",
    "计算损失函数如下：\n",
    "\n",
    "$$\\mathit{ loss = 、frac{1}{m}\\sum_{i = 1}^m \\frac{1}{2}(h_w(x^{(i)} - y^{(i)}))^2 }$$\n",
    "\n",
    "$$\\mathit{Cost(h_w(x),y) = \\frac{1}{2}(h_w(x) - y)^2}$$\n",
    "\n",
    "但是显然由于Sigmoid函数的影响损失函数是“非凸”的，所以需要通过变形来得到一个合适的形式：\n",
    "\n",
    "$$\\mathit{Cost(h_w(x),y)} = \\begin{cases} -log(h_w(x)) \\qquad y = 1 \\\\ -log(1 - h_w(x)) \\qquad y = 0 \\end{cases}\\\\ $$\n",
    "\n",
    "分析Cost函数：\n",
    "* 当$y=1,h_w(x)=1$时$Cost=0$,即$P(y=1|w,x)=1$时预测$y=1$的准确度极高。\n",
    "* 当$y=1,h_w(x)=0$时$Cost \\to \\infty$,即$P(y=1|w,x)=0$时预测$y=1$的准确度极低。\n",
    "* 当$y=0$时的情况相同。\n",
    "\n",
    "所以使用如下Cost形式：\n",
    "\n",
    "$$Cost(h_w(x),y) = -ylog(h_w(x)) - (1-y)log(1 - h_w(x))$$\n",
    "\n",
    "需要求解的优化问题为：\n",
    "\n",
    "$$min loss(w) = \\frac{1}{m} \\sum_{(i=1)}{m} Cost(h_w(x), y)$$\n",
    "\n",
    "$$\\frac{d}{dw_j}(Cost(w)) = -y\\frac{1}{h_w(x)}h_w(x)(1-h_w(x))x_j - (1-y)\\frac{-h_w(x)}{1-h_w(x)} (1-h_w(x))x_j$$\n",
    "\n",
    "$$= (h_w(x) - y)x_j$$\n",
    "\n",
    "$$\\frac{d}{dw_j}(loss(w)) = \\frac{1}{m} \\sum_{i=1}^{m} (h_w(x^{(i)}) - y^{(i)})x^{(i)}_j$$\n"
   ]
  },
  {
   "cell_type": "code",
   "execution_count": 22,
   "metadata": {
    "collapsed": true
   },
   "outputs": [],
   "source": [
    "import sys\n",
    "import os\n",
    "\n",
    "sys.path.append(\"%s/../..\" % os.getcwd())\n",
    "\n",
    "import numpy as np\n",
    "from arsenal.data_process.load_data import DataLoader\n",
    "from arsenal.data_process.plot_data import Ploter\n",
    "from arsenal.optimizer.grad_descent import GradDescent\n",
    "from arsenal.model.lgr import LogisticRegression"
   ]
  },
  {
   "cell_type": "code",
   "execution_count": 23,
   "metadata": {
    "collapsed": true
   },
   "outputs": [],
   "source": [
    "def plot_data(X, y):\n",
    "    ploter = Ploter()\n",
    "    \n",
    "    pos = [i for i in range(y.shape[0]) if (y == 1)[i] == True]\n",
    "    neg = [i for i in range(y.shape[0]) if (y == 0)[i] == True]\n",
    "    \n",
    "    ploter.plot(X[pos,0], X[pos,1], 'k+', linewidth=2, markersize=7)\n",
    "    ploter.plot(X[neg,0], X[neg,1], 'ko', linewidth=1, markersize=7, markerfacecolor='y')\n",
    "    \n",
    "    ploter.show()"
   ]
  },
  {
   "cell_type": "code",
   "execution_count": 3,
   "metadata": {},
   "outputs": [
    {
     "data": {
      "image/png": "[encoded data removed]",
      "text/plain": [
       "<matplotlib.figure.Figure at 0x253486c75f8>"
      ]
     },
     "metadata": {},
     "output_type": "display_data"
    },
    {
     "name": "stdout",
     "output_type": "stream",
     "text": [
      "(0.69314718055994529, array([[ -0.1       ],\n",
      "       [-12.00921659],\n",
      "       [-11.26284221]]))\n",
      "(0.21833019382659774, array([[ 0.04290299],\n",
      "       [ 2.56623412],\n",
      "       [ 2.64679737]]))\n"
     ]
    },
    {
     "data": {
      "image/png": "[encoded data removed]",
      "text/plain": [
       "<matplotlib.figure.Figure at 0x253489d8630>"
      ]
     },
     "metadata": {},
     "output_type": "display_data"
    },
    {
     "name": "stdout",
     "output_type": "stream",
     "text": [
      "probability is  [ 0.62385683]\n",
      "Train Accuracy:  60.0\n"
     ]
    }
   ],
   "source": [
    "if \"__main__\" == __name__:\n",
    "    data = DataLoader().load('./data/data1.txt')\n",
    "    X = data[:, 0:2]\n",
    "    y = data[:, 2]\n",
    "    if len(y.shape) == 1:\n",
    "        y = y.reshape(y.shape[0], 1)\n",
    "    plot_data(X, y)\n",
    "    \n",
    "    iterations = 100000\n",
    "    losses = []\n",
    "    step = 100\n",
    "    optimizer = GradDescent()\n",
    "    learning_rate = 0.001\n",
    "    \n",
    "    X_ = np.c_[np.ones((X.shape[0], 1)), X]\n",
    "    (m, n) = X_.shape\n",
    "    w = np.zeros((n,1))\n",
    "    \n",
    "    test = LogisticRegression()\n",
    "    print(test.lgr_loss_grad(X_, w, y))\n",
    "    test_w = np.array(([-24.],[0.2],[0.2]))\n",
    "    print(test.lgr_loss_grad(X_, test_w, y))\n",
    "    \n",
    "    for i in range(iterations):\n",
    "        loss, grad = test.lgr_loss_grad(X_, w, y)\n",
    "        w = optimizer.descent(grad, w, rate=learning_rate)\n",
    "        \n",
    "        if i % step == 0:\n",
    "            losses.append(loss)\n",
    "#             print(\"Iteration: %d, loss: %f\" % (i, losses[-1]))\n",
    "    \n",
    "    index = np.arange(0,iterations, step).reshape(iterations//step, 1)\n",
    "    losses = np.array((losses)).reshape(len(losses),1)\n",
    "    ploter = Ploter()\n",
    "    ploter.plot(index, np.array((losses)), 'r-')\n",
    "    ploter.show()\n",
    "    \n",
    "    prob = test.lgr_func(np.array(([1,45,85])), w)\n",
    "    print(\"probability is \", prob)\n",
    "    \n",
    "    predict = test.predict(X_, w)\n",
    "    print(\"Train Accuracy: \", float(np.mean(predict == y)) * 100)\n",
    "    "
   ]
  },
  {
   "cell_type": "code",
   "execution_count": 4,
   "metadata": {
    "collapsed": true
   },
   "outputs": [],
   "source": [
    "import sys\n",
    "import os\n",
    "\n",
    "sys.path.append(\"%s\\\\..\" % os.getcwd())\n",
    "\n",
    "import numpy as np\n",
    "import tensorflow  as tf\n",
    "from arsenal.data_process.load_data import DataLoader\n",
    "from arsenal.data_process.plot_data import Ploter\n",
    "from arsenal.common.basic_func import Sigmoid"
   ]
  },
  {
   "cell_type": "code",
   "execution_count": 5,
   "metadata": {},
   "outputs": [
    {
     "data": {
      "image/png": "[encoded data removed]",
      "text/plain": [
       "<matplotlib.figure.Figure at 0x2534bca77b8>"
      ]
     },
     "metadata": {},
     "output_type": "display_data"
    }
   ],
   "source": [
    "data = DataLoader().load('./data/data1.txt')\n",
    "X = data[:, 0:2]\n",
    "y = data[:, 2]\n",
    "if len(y.shape) == 1:\n",
    "    y = y.reshape(y.shape[0], 1)\n",
    "plot_data(X, y)"
   ]
  },
  {
   "cell_type": "code",
   "execution_count": 20,
   "metadata": {},
   "outputs": [
    {
     "name": "stdout",
     "output_type": "stream",
     "text": [
      "\n",
      "w:\n",
      " [[ 0.04527983]\n",
      " [ 0.03819065]] \n",
      "b:\n",
      " [[-4.81169319]]\n"
     ]
    },
    {
     "data": {
      "image/png": "[encoded data removed]",
      "text/plain": [
       "<matplotlib.figure.Figure at 0x2534eeb3748>"
      ]
     },
     "metadata": {},
     "output_type": "display_data"
    }
   ],
   "source": [
    "iterations = 100000\n",
    "losses = []\n",
    "step = 100\n",
    "\n",
    "(m, n) = X.shape\n",
    "#tf.cast(x, tf.float32)\n",
    "X = X.astype(np.float32)\n",
    "w = tf.Variable(tf.zeros([n,1]))\n",
    "b = tf.Variable(tf.zeros([1,1]))\n",
    "y_hat = tf.sigmoid(tf.matmul(X,w) + b)\n",
    "\n",
    "#tf.reduce_sum(input_tensor, reduction_indices=None, keep_dims=False, name=None)\n",
    "\n",
    "loss = tf.reduce_mean(-y*tf.log(y_hat) - (1-y)*tf.log(1-y_hat))\n",
    "train = tf.train.GradientDescentOptimizer(0.001).minimize(loss)\n",
    "\n",
    "init = tf.global_variables_initializer()\n",
    "\n",
    "with tf.Session() as sess:\n",
    "    sess.run(init)\n",
    "    for i in range(iterations):\n",
    "        if i % step == 0:\n",
    "            #print(i, sess.run(w), sess.run(b))\n",
    "            losses.append(sess.run(loss))\n",
    "        sess.run(train)\n",
    "    print('\\nw:\\n', sess.run(w), '\\nb:\\n', sess.run(b))\n",
    "\n",
    "index = np.arange(0,iterations, step).reshape(iterations//step, 1)\n",
    "losses = np.array((losses)).reshape(len(losses),1)\n",
    "ploter = Ploter()\n",
    "ploter.plot(index, np.array((losses)), 'r-')\n",
    "ploter.show()"
   ]
  },
  {
   "cell_type": "code",
   "execution_count": 21,
   "metadata": {},
   "outputs": [
    {
     "name": "stdout",
     "output_type": "stream",
     "text": [
      "Train Accuracy:  91.0\n"
     ]
    }
   ],
   "source": [
    "w = np.array(([0.04527983],[0.03819065]))\n",
    "b = np.array(([-4.81169319]))\n",
    "y_hat = Sigmoid(np.dot(X,w) + b)\n",
    "p = np.asarray((y_hat >= 0.5), dtype=np.int32)\n",
    "print(\"Train Accuracy: \", float(np.mean(p == y)) * 100)"
   ]
  },
  {
   "cell_type": "code",
   "execution_count": null,
   "metadata": {
    "collapsed": true
   },
   "outputs": [],
   "source": []
  }
 ],
 "metadata": {
  "kernelspec": {
   "display_name": "Python 3",
   "language": "python",
   "name": "python3"
  },
  "language_info": {
   "codemirror_mode": {
    "name": "ipython",
    "version": 3
   },
   "file_extension": ".py",
   "mimetype": "text/x-python",
   "name": "python",
   "nbconvert_exporter": "python",
   "pygments_lexer": "ipython3",
   "version": "3.6.3"
  }
 },
 "nbformat": 4,
 "nbformat_minor": 2
}
