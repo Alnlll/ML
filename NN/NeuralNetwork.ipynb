{
 "cells": [
  {
   "cell_type": "markdown",
   "metadata": {},
   "source": [
    "# NueralNetwork模型\n",
    "  \n",
    "  一个神经元通常具有多个树突，主要用来接受传入信息；而轴突只有一条，轴突尾端有许多轴突末梢可以给其他多个神经元传递信息：\n",
    "  \n",
    "  ![](./data/image/nn1.jpg '神经元')\n",
    "  \n",
    "  据此建立的神经元模型如下，其中$\\sigma $函数被称为“激活函数”，实际起到“约束函数”的作用，通常是使用$g$来表示，这里目的是表明“激活函数”使用的是Sigmoid函数，其他常见的激活函数有“Relu”,\"Tanh\",\"Leaky Tanh\"等等。\n",
    "  \n",
    "  ![](./data/image/nn2.jpg '神经元模型')\n",
    "  \n",
    "  这里用一个简单的2层网络来介绍后续使用的模型：\n",
    "  \n",
    "  ![](./data/image/nn3.jpg '简单神经网络')\n",
    "  \n",
    "  其中$L0$层为输入层，$L1$层为隐藏层，$L2$层为输出层，通常输入层不会计入层总数中，所以这是一个2层的神经网络。 $a^{[l]}_j$表示第$l$层的第$j$的神经元节点。\n",
    "  \n",
    "  其中还隐藏了一些参数:\n",
    "  \n",
    "  $a^{[l]} = g(z^{[l]}) = g(W^{[l]} a^{[l-1]} + b^{[l]})$\n",
    "  \n",
    "  $W^{[l]} = \\{w_1^{[l]},...,w_n^{[l]}\\}^T$\n",
    "  \n",
    "---\n",
    "# 前向传播\n",
    "\n",
    "  使用前述介绍提到的公式：\n",
    "  \n",
    "  $$a^{[l]} = g(z^{[l]}) = g(W^{[l]} a^{[l-1]} + b^{[l]})$$\n",
    "  \n",
    "  $$W^{[l]} = \\{w_1^{[l]},...,w_n^{[l]}\\}^T$$\n",
    "  \n",
    "  如此逐层计算得到输出即可。\n",
    "\n",
    "---\n",
    "# 后向传播\n",
    "\n",
    "  后向传播指的就是求出$loss$函数对于各层各参数的梯度的过程，实际得到的就是各层各参数的变化对于最终结果的影响程度。\n",
    "  \n",
    "  $$loss(W^{[1]},b^{[1]},W^{[2]},b^{[2]}, ... ,W^{[L]},b^{[L]}) = \\frac{1}{m}\\sum_{i=1}^{m} (\\widehat{y} - y)^2$$\n",
    "  \n",
    "  根据链式法则则可以得出：\n",
    "  \n",
    "  $$\\frac{dloss}{dW^{[L]}} = \\frac{dloss}{da^{[L]}}\\frac{da^{[L]}}{dz^{[L]}}\\frac{dz^{[L]}}{dW^{[L]}}$$\n",
    "  \n",
    "  由于后续的实例为一个分类问题，所以这里$\\frac{dloss}{da^{[L]}}$为二分类问题的结果，不同问题下这个结果会有不同，设计框架时需要独立出来。\n",
    "  \n",
    "  $$\\frac{dloss}{da^{[L]}} = \\frac{1}{m}(-\\frac{y}{a^{[L]}} - \\frac{1-y}{1-a^{[L]}})$$\n",
    "  \n",
    "  $$\\frac{dz^{[L]}}{dW^{[L]}} = a^{[L-1]T}$$\n",
    "  \n",
    "  $$\\frac{dz^{[L]}}{db^{[L]}} = \\sum_{i=1}^{m} z^{[L]}[:,i]$$\n",
    "  \n",
    "  所以我们只需要得出$loss^{'}(a^{[L]})$，然后使用$a^{'[l]}(W^{[l]}) = a^{'[l]}(z^{[l]})z^{'[l]}(W^{[l]}), a^{'[l]}(b^{[l]}) = a^{'[l]}(z^{[l]})z^{'[l]}(b^{[l]})$重复进行各层计算即可，注意各层间的关系$z^{'[l]}(a^{[l-1]})=W^{[l]T}$不要忘记加入链中。"
   ]
  },
  {
   "cell_type": "code",
   "execution_count": 1,
   "metadata": {
    "collapsed": true
   },
   "outputs": [],
   "source": [
    "import sys\n",
    "import os\n",
    "\n",
    "sys.path.append(\"%s\\\\..\" % os.getcwd())"
   ]
  },
  {
   "cell_type": "code",
   "execution_count": 2,
   "metadata": {
    "collapsed": true
   },
   "outputs": [],
   "source": [
    "import numpy as np\n",
    "import h5py\n",
    "from collections import OrderedDict\n",
    "from arsenal.data_process.load_data import DataLoader\n",
    "from arsenal.data_process.plot_data import Ploter\n",
    "from arsenal.optimizer.grad_descent import GradDescent\n",
    "from arsenal.model.nn import NueralNetwork\n",
    "\n",
    "%load_ext autoreload\n",
    "%autoreload 2"
   ]
  },
  {
   "cell_type": "code",
   "execution_count": 3,
   "metadata": {
    "collapsed": true
   },
   "outputs": [],
   "source": [
    "def plot_data(X, y):\n",
    "    ploter = Ploter()\n",
    "    \n",
    "    pos = [i for i in range(y.shape[0]) if (y == 1)[i] == True]\n",
    "    neg = [i for i in range(y.shape[0]) if (y == 0)[i] == True]\n",
    "    \n",
    "    ploter.plot(X[pos,0], X[pos,1], 'ko', linewidth=2, markersize=7, markerfacecolor='r')\n",
    "    ploter.plot(X[neg,0], X[neg,1], 'ko', linewidth=1, markersize=7, markerfacecolor='b')\n",
    "    \n",
    "    ploter.show()"
   ]
  },
  {
   "cell_type": "code",
   "execution_count": 4,
   "metadata": {},
   "outputs": [
    {
     "name": "stdout",
     "output_type": "stream",
     "text": [
      "W1 = [[ 0.79989897  0.19521314  0.04315498 -0.83337927 -0.12405178]\n",
      " [-0.15865304 -0.03700312 -0.28040323 -0.01959608 -0.21341839]\n",
      " [-0.58757818  0.39561516  0.39413741  0.76454432  0.02237573]\n",
      " [-0.18097724 -0.24389238 -0.69160568  0.43932807 -0.49241241]]\n",
      "b1 = [[ 0.]\n",
      " [ 0.]\n",
      " [ 0.]\n",
      " [ 0.]]\n",
      "W2 = [[-0.59252326 -0.10282495  0.74307418  0.11835813]\n",
      " [-0.51189257 -0.3564966   0.31262248 -0.08025668]\n",
      " [-0.38441818 -0.11501536  0.37252813  0.98805539]]\n",
      "b2 = [[ 0.]\n",
      " [ 0.]\n",
      " [ 0.]]\n"
     ]
    }
   ],
   "source": [
    "map = OrderedDict([\n",
    "    (\"L0\", {\n",
    "        \"W\": None,\n",
    "        \"b\": None,\n",
    "        \"z\": None,\n",
    "        \"a\": None,\n",
    "        \"activation\": None,\n",
    "        \"dz\": None,\n",
    "        \"dW\": None,\n",
    "        \"db\": None,\n",
    "        \"n_neuron\": 5}\n",
    "    ),\n",
    "    (\"L1\", {\n",
    "        \"W\": None,\n",
    "        \"b\": None,\n",
    "        \"z\": None,\n",
    "        \"a\": None,\n",
    "        \"activation\": \"tanh\",\n",
    "        \"dz\": None,\n",
    "        \"dW\": None,\n",
    "        \"db\": None,\n",
    "        \"n_neuron\": 4}\n",
    "    ),\n",
    "    (\"L2\", {\n",
    "        \"W\": None,\n",
    "        \"b\": None,\n",
    "        \"z\": None,\n",
    "        \"a\": None,\n",
    "        \"activation\": \"sigmoid\",\n",
    "        \"dz\": None,\n",
    "        \"dW\": None,\n",
    "        \"db\": None,\n",
    "        \"n_neuron\": 3}\n",
    "    ),\n",
    "])\n",
    "\n",
    "nn = NueralNetwork(map)\n",
    "\n",
    "nn.initialize_params(seed=3)\n",
    "\n",
    "print(\"W1 = \" + str(nn.map[\"L1\"][\"W\"]))\n",
    "print(\"b1 = \" + str(nn.map[\"L1\"][\"b\"]))\n",
    "print(\"W2 = \" + str(nn.map[\"L2\"][\"W\"]))\n",
    "print(\"b2 = \" + str(nn.map[\"L2\"][\"b\"]))"
   ]
  },
  {
   "cell_type": "code",
   "execution_count": 5,
   "metadata": {},
   "outputs": [
    {
     "name": "stdout",
     "output_type": "stream",
     "text": [
      "AL = [[ 0.03921668  0.70498921  0.19734387  0.04728177]]\n"
     ]
    }
   ],
   "source": [
    "map = OrderedDict([\n",
    "    (\"L0\", {\n",
    "        \"W\": None,\n",
    "        \"b\": None,\n",
    "        \"z\": None,\n",
    "        \"a\": None,\n",
    "        \"activation\": None,\n",
    "        \"dz\": None,\n",
    "        \"dW\": None,\n",
    "        \"db\": None,\n",
    "        \"n_neuron\": 4}\n",
    "    ),\n",
    "    (\"L1\", {\n",
    "        \"W\": None,\n",
    "        \"b\": None,\n",
    "        \"z\": None,\n",
    "        \"a\": None,\n",
    "        \"activation\": \"relu\",\n",
    "        \"dz\": None,\n",
    "        \"dW\": None,\n",
    "        \"db\": None,\n",
    "        \"n_neuron\": 4}\n",
    "    ),\n",
    "    (\"L2\", {\n",
    "        \"W\": None,\n",
    "        \"b\": None,\n",
    "        \"z\": None,\n",
    "        \"a\": None,\n",
    "        \"activation\": \"relu\",\n",
    "        \"dz\": None,\n",
    "        \"dW\": None,\n",
    "        \"db\": None,\n",
    "        \"n_neuron\": 3}\n",
    "    ),\n",
    "    (\"L3\", {\n",
    "        \"W\": None,\n",
    "        \"b\": None,\n",
    "        \"z\": None,\n",
    "        \"a\": None,\n",
    "        \"activation\": \"sigmoid\",\n",
    "        \"dz\": None,\n",
    "        \"dW\": None,\n",
    "        \"db\": None,\n",
    "        \"n_neuron\": 1}\n",
    "    ),\n",
    "])\n",
    "\n",
    "test_X = np.array(([[-0.31178367,0.72900392,0.21782079,-0.8990918],\n",
    " [-2.48678065,  0.91325152,  1.12706373, -1.51409323],\n",
    " [ 1.63929108, -0.4298936,   2.63128056,  0.60182225],\n",
    " [-0.33588161,  1.23773784,  0.11112817,  0.12915125],\n",
    " [ 0.07612761, -0.15512816,  0.63422534,  0.810655  ]]))\n",
    "map['L1']['W'] = np.array(([[ 0.35480861,  1.81259031, -1.3564758 , -0.46363197,  0.82465384],\n",
    "       [-1.17643148,  1.56448966,  0.71270509, -0.1810066 ,  0.53419953],\n",
    "       [-0.58661296, -1.48185327,  0.85724762,  0.94309899,  0.11444143],\n",
    "       [-0.02195668, -2.12714455, -0.83440747, -0.46550831,  0.23371059]]))\n",
    "map['L1']['b'] = np.array(([[ 1.38503523],\n",
    "       [-0.51962709],\n",
    "       [-0.78015214],\n",
    "       [ 0.95560959]]))\n",
    "map['L2']['W'] = np.array(([[-0.12673638, -1.36861282,  1.21848065, -0.85750144],\n",
    "       [-0.56147088, -1.0335199 ,  0.35877096,  1.07368134],\n",
    "       [-0.37550472,  0.39636757, -0.47144628,  2.33660781]]))\n",
    "map['L2']['b'] = np.array(([[ 1.50278553],\n",
    "       [-0.59545972],\n",
    "       [ 0.52834106]]))\n",
    "map['L3']['W'] = np.array(([[ 0.9398248 ,  0.42628539, -0.75815703]]))\n",
    "map['L3']['b'] = np.array(([[-0.16236698]]))\n",
    "\n",
    "nn = NueralNetwork(map)\n",
    "\n",
    "#print(nn.map['L1']['W'].shape, nn.map['L1']['b'].shape, nn.map['L2']['W'].shape, nn.map['L2']['b'].shape)\n",
    "nn.forward_propagation(test_X)\n",
    "    \n",
    "# print(np.mean(nn.map['L1']['z']) ,np.mean(nn.map['L1']['a']),np.mean(nn.map['L2']['z']),np.mean(nn.map['L2']['a']))\n",
    "# print('Expected: ',0.262818639215,0.0919990450506,-1.30766601295,0.212877681706, '\\n')\n",
    "\n",
    "print(\"AL = \" + str(nn.map['L3']['a']))"
   ]
  },
  {
   "cell_type": "code",
   "execution_count": 6,
   "metadata": {},
   "outputs": [
    {
     "name": "stdout",
     "output_type": "stream",
     "text": [
      "Loss:  0.414931599615\n",
      "Expected:  0.414931599615 \n",
      "\n"
     ]
    }
   ],
   "source": [
    "# test_Y = np.array(([1,0,0]))\n",
    "# test_Y = test_Y.reshape(1, test_Y.shape[0])\n",
    "\n",
    "# map['L2']['a'] = np.array(([[0.5002307,0.49985831,0.50023963]]))\n",
    "\n",
    "Y = np.array(([[1, 1, 1]]))\n",
    "Y_hat = np.array(([[.8,.9,0.4]]))\n",
    "    \n",
    "print('Loss: ', nn.loss(Y_hat, Y))\n",
    "print('Expected: ',0.414931599615, '\\n')"
   ]
  },
  {
   "cell_type": "code",
   "execution_count": 7,
   "metadata": {
    "collapsed": true
   },
   "outputs": [],
   "source": [
    "map = OrderedDict([\n",
    "    (\"L0\", {\n",
    "        \"W\": None,\n",
    "        \"b\": None,\n",
    "        \"z\": None,\n",
    "        \"a\": None,\n",
    "        \"activation\": None,\n",
    "        \"dz\": None,\n",
    "        \"dW\": None,\n",
    "        \"db\": None,\n",
    "        \"n_neuron\": 4}\n",
    "    ),\n",
    "    (\"L1\", {\n",
    "        \"W\": None,\n",
    "        \"b\": None,\n",
    "        \"z\": None,\n",
    "        \"a\": None,\n",
    "        \"activation\": \"relu\",\n",
    "        \"dz\": None,\n",
    "        \"dW\": None,\n",
    "        \"db\": None,\n",
    "        \"n_neuron\": 4}\n",
    "    ),\n",
    "    (\"L2\", {\n",
    "        \"W\": None,\n",
    "        \"b\": None,\n",
    "        \"z\": None,\n",
    "        \"a\": None,\n",
    "        \"activation\": \"relu\",\n",
    "        \"dz\": None,\n",
    "        \"dW\": None,\n",
    "        \"db\": None,\n",
    "        \"n_neuron\": 3}\n",
    "    ),\n",
    "    (\"L3\", {\n",
    "        \"W\": None,\n",
    "        \"b\": None,\n",
    "        \"z\": None,\n",
    "        \"a\": None,\n",
    "        \"activation\": \"sigmoid\",\n",
    "        \"dz\": None,\n",
    "        \"dW\": None,\n",
    "        \"db\": None,\n",
    "        \"n_neuron\": 1}\n",
    "    ),\n",
    "])"
   ]
  },
  {
   "cell_type": "code",
   "execution_count": 8,
   "metadata": {
    "collapsed": true
   },
   "outputs": [],
   "source": [
    "def load_data():\n",
    "    train_dataset = h5py.File('./data/train_catvnoncat.h5', \"r\")\n",
    "    train_set_x_orig = np.array(train_dataset[\"train_set_x\"][:]) # your train set features\n",
    "    train_set_y_orig = np.array(train_dataset[\"train_set_y\"][:]) # your train set labels\n",
    "\n",
    "    test_dataset = h5py.File('./data/test_catvnoncat.h5', \"r\")\n",
    "    test_set_x_orig = np.array(test_dataset[\"test_set_x\"][:]) # your test set features\n",
    "    test_set_y_orig = np.array(test_dataset[\"test_set_y\"][:]) # your test set labels\n",
    "\n",
    "    classes = np.array(test_dataset[\"list_classes\"][:]) # the list of classes\n",
    "    \n",
    "    train_set_y_orig = train_set_y_orig.reshape((1, train_set_y_orig.shape[0]))\n",
    "    test_set_y_orig = test_set_y_orig.reshape((1, test_set_y_orig.shape[0]))\n",
    "    \n",
    "    return train_set_x_orig, train_set_y_orig, test_set_x_orig, test_set_y_orig, classes"
   ]
  },
  {
   "cell_type": "code",
   "execution_count": 9,
   "metadata": {},
   "outputs": [
    {
     "data": {
      "image/png": "[encoded data removed]",
      "text/plain": [
       "<matplotlib.figure.Figure at 0x1ffea605be0>"
      ]
     },
     "metadata": {},
     "output_type": "display_data"
    },
    {
     "name": "stdout",
     "output_type": "stream",
     "text": [
      "y = 0. It's a non-cat picture.\n",
      "Number of training examples: 209\n",
      "Number of testing examples: 50\n",
      "Each image is of size: (64, 64, 3)\n",
      "train_x_orig shape: (209, 64, 64, 3)\n",
      "train_y shape: (1, 209)\n",
      "test_x_orig shape: (50, 64, 64, 3)\n",
      "test_y shape: (1, 50)\n"
     ]
    }
   ],
   "source": [
    "train_x_orig, train_y, test_x_orig, test_y, classes = load_data()\n",
    "\n",
    "import matplotlib.pyplot as plt\n",
    "\n",
    "index = 20\n",
    "plt.imshow(train_x_orig[index])\n",
    "plt.show()\n",
    "print (\"y = \" + str(train_y[0,index]) + \". It's a \" + classes[train_y[0,index]].decode(\"utf-8\") +  \" picture.\")# Explore your dataset \n",
    "m_train = train_x_orig.shape[0]\n",
    "num_px = train_x_orig.shape[1]\n",
    "m_test = test_x_orig.shape[0]\n",
    "\n",
    "print (\"Number of training examples: \" + str(m_train))\n",
    "print (\"Number of testing examples: \" + str(m_test))\n",
    "print (\"Each image is of size: (\" + str(num_px) + \", \" + str(num_px) + \", 3)\")\n",
    "print (\"train_x_orig shape: \" + str(train_x_orig.shape))\n",
    "print (\"train_y shape: \" + str(train_y.shape))\n",
    "print (\"test_x_orig shape: \" + str(test_x_orig.shape))\n",
    "print (\"test_y shape: \" + str(test_y.shape))"
   ]
  },
  {
   "cell_type": "code",
   "execution_count": 10,
   "metadata": {},
   "outputs": [
    {
     "name": "stdout",
     "output_type": "stream",
     "text": [
      "Number of training examples: 209\n",
      "Number of testing examples: 50\n",
      "Each image is of size: (64, 64, 3)\n",
      "train_x_orig shape: (209, 64, 64, 3)\n",
      "train_y shape: (1, 209)\n",
      "test_x_orig shape: (50, 64, 64, 3)\n",
      "test_y shape: (1, 50)\n"
     ]
    }
   ],
   "source": [
    "# Explore your dataset \n",
    "m_train = train_x_orig.shape[0]\n",
    "num_px = train_x_orig.shape[1]\n",
    "m_test = test_x_orig.shape[0]\n",
    "\n",
    "print (\"Number of training examples: \" + str(m_train))\n",
    "print (\"Number of testing examples: \" + str(m_test))\n",
    "print (\"Each image is of size: (\" + str(num_px) + \", \" + str(num_px) + \", 3)\")\n",
    "print (\"train_x_orig shape: \" + str(train_x_orig.shape))\n",
    "print (\"train_y shape: \" + str(train_y.shape))\n",
    "print (\"test_x_orig shape: \" + str(test_x_orig.shape))\n",
    "print (\"test_y shape: \" + str(test_y.shape))"
   ]
  },
  {
   "cell_type": "code",
   "execution_count": 11,
   "metadata": {},
   "outputs": [
    {
     "name": "stdout",
     "output_type": "stream",
     "text": [
      "train_x's shape: (12288, 209)\n",
      "test_x's shape: (12288, 50)\n"
     ]
    }
   ],
   "source": [
    "# Reshape the training and test examples \n",
    "train_x_flatten = train_x_orig.reshape(train_x_orig.shape[0], -1).T   # The \"-1\" makes reshape flatten the remaining dimensions\n",
    "test_x_flatten = test_x_orig.reshape(test_x_orig.shape[0], -1).T\n",
    "\n",
    "# Standardize data to have feature values between 0 and 1.\n",
    "train_x = train_x_flatten/255.\n",
    "test_x = test_x_flatten/255.\n",
    "\n",
    "print (\"train_x's shape: \" + str(train_x.shape))\n",
    "print (\"test_x's shape: \" + str(test_x.shape))"
   ]
  },
  {
   "cell_type": "code",
   "execution_count": 15,
   "metadata": {
    "collapsed": true
   },
   "outputs": [],
   "source": [
    "def nn_model(X, Y, map, test_X, test_Y, iterations=50000, learning_rate=0.1):\n",
    "    m = X.shape[1]\n",
    "    step = 100\n",
    "    losses = []\n",
    "    \n",
    "    nn = NueralNetwork(map)\n",
    "    \n",
    "    nn.initialize_params()\n",
    "    \n",
    "    for i in range(iterations):\n",
    "        \n",
    "        aL = nn.forward_propagation(X)\n",
    "\n",
    "        da = -(Y/aL + (Y-1)/(1-aL))/m\n",
    "        nn.backward_propagation(da)\n",
    "        nn.update_params(rate=learning_rate)\n",
    "        \n",
    "        if i % step == 0:\n",
    "            loss = nn.loss(nn.map['L'+str(nn.L)]['a'], Y)\n",
    "            losses.append(loss)\n",
    "            print('Loss ',i, \" \", loss)\n",
    "    \n",
    "    index = np.arange(0,iterations, step).reshape(iterations//step, 1)\n",
    "    losses = np.array((losses)).reshape(len(losses),1)\n",
    "    ploter = Ploter()\n",
    "    ploter.plot(index, np.array((losses)), 'r-')\n",
    "    ploter.show()\n",
    "    \n",
    "    predict_train = nn.predict(X)\n",
    "    print(\"Train Accuracy: \", np.mean(predict_train == Y))\n",
    "    \n",
    "    predict_test = nn.predict(test_X)\n",
    "    print(\"Test Accuracy: \", np.mean(predict_test == test_Y))"
   ]
  },
  {
   "cell_type": "code",
   "execution_count": 16,
   "metadata": {},
   "outputs": [
    {
     "name": "stdout",
     "output_type": "stream",
     "text": [
      "Loss  0   0.69504649618\n",
      "Loss  100   0.589259605458\n",
      "Loss  200   0.523260917362\n",
      "Loss  300   0.449768639622\n",
      "Loss  400   0.420900216188\n",
      "Loss  500   0.372464030617\n",
      "Loss  600   0.347420518702\n",
      "Loss  700   0.317191919874\n",
      "Loss  800   0.266437743477\n",
      "Loss  900   0.219914328078\n",
      "Loss  1000   0.143578988936\n",
      "Loss  1100   0.453092126232\n",
      "Loss  1200   0.0949935767009\n",
      "Loss  1300   0.0801412807678\n",
      "Loss  1400   0.0694023400554\n",
      "Loss  1500   0.0602166402317\n",
      "Loss  1600   0.05327415758\n",
      "Loss  1700   0.047629032621\n",
      "Loss  1800   0.0429758887944\n",
      "Loss  1900   0.0390360743651\n",
      "Loss  2000   0.0356831363805\n",
      "Loss  2100   0.0329152637305\n",
      "Loss  2200   0.0304721930591\n",
      "Loss  2300   0.0283878592129\n",
      "Loss  2400   0.0266152123728\n"
     ]
    },
    {
     "data": {
      "image/png": "[encoded data removed]",
      "text/plain": [
       "<matplotlib.figure.Figure at 0x1ffead3c128>"
      ]
     },
     "metadata": {},
     "output_type": "display_data"
    },
    {
     "name": "stdout",
     "output_type": "stream",
     "text": [
      "Train Accuracy:  1.0\n",
      "Test Accuracy:  0.74\n"
     ]
    }
   ],
   "source": [
    "# (\"L0\", {\n",
    "#         \"W\": None,\n",
    "#         \"b\": None,\n",
    "#         \"z\": None,\n",
    "#         \"a\": None,\n",
    "#         \"activation\": None,\n",
    "#         \"dW\": None,\n",
    "#         \"db\": None,\n",
    "#         \"n_neuron\": 12288}\n",
    "# ),\n",
    "map = OrderedDict([\n",
    "    (\"L0\", {\n",
    "        \"activation\": None,\n",
    "        \"n_neuron\": 12288}\n",
    "    ),\n",
    "    (\"L1\", {\n",
    "        \"activation\": \"relu\",\n",
    "        \"n_neuron\": 7}\n",
    "    ),\n",
    "    (\"L2\", {\n",
    "        \"activation\": \"sigmoid\",\n",
    "        \"n_neuron\": 1}\n",
    "    )\n",
    "])\n",
    "    \n",
    "model = nn_model(train_x, train_y, map, test_x, test_y, iterations=2500, learning_rate=0.0075)"
   ]
  },
  {
   "cell_type": "code",
   "execution_count": 17,
   "metadata": {
    "scrolled": true
   },
   "outputs": [
    {
     "name": "stdout",
     "output_type": "stream",
     "text": [
      "Loss  0   0.771749328424\n",
      "Loss  100   0.672053440082\n",
      "Loss  200   0.648263204858\n",
      "Loss  300   0.61150688161\n",
      "Loss  400   0.567047326837\n",
      "Loss  500   0.540137663455\n",
      "Loss  600   0.527929956946\n",
      "Loss  700   0.465477377177\n",
      "Loss  800   0.369125852496\n",
      "Loss  900   0.391746974348\n",
      "Loss  1000   0.31518698886\n",
      "Loss  1100   0.272699844179\n",
      "Loss  1200   0.237418534003\n",
      "Loss  1300   0.199601205322\n",
      "Loss  1400   0.189263003885\n",
      "Loss  1500   0.161188546658\n",
      "Loss  1600   0.148213896624\n",
      "Loss  1700   0.13777487813\n",
      "Loss  1800   0.129740175492\n",
      "Loss  1900   0.12122535068\n",
      "Loss  2000   0.113820606686\n",
      "Loss  2100   0.107839285263\n",
      "Loss  2200   0.102854660694\n",
      "Loss  2300   0.100897454453\n",
      "Loss  2400   0.0928782152647\n"
     ]
    },
    {
     "data": {
      "image/png": "[encoded data removed]",
      "text/plain": [
       "<matplotlib.figure.Figure at 0x1ffea9077b8>"
      ]
     },
     "metadata": {},
     "output_type": "display_data"
    },
    {
     "name": "stdout",
     "output_type": "stream",
     "text": [
      "Train Accuracy:  0.985645933014\n",
      "Test Accuracy:  0.8\n"
     ]
    }
   ],
   "source": [
    "map = OrderedDict([\n",
    "    (\"L0\", {\n",
    "        \"activation\": None,\n",
    "        \"n_neuron\": 12288}\n",
    "    ),\n",
    "    (\"L1\", {\n",
    "        \"activation\": \"relu\",\n",
    "        \"n_neuron\": 20}\n",
    "    ),\n",
    "    (\"L2\", {\n",
    "        \"activation\": \"relu\",\n",
    "        \"n_neuron\": 7}\n",
    "    ),\n",
    "    (\"L3\", {\n",
    "        \"activation\": \"relu\",\n",
    "        \"n_neuron\": 5}\n",
    "    ),\n",
    "    (\"L4\", {\n",
    "        \"activation\": \"sigmoid\",\n",
    "        \"n_neuron\": 1}\n",
    "    )\n",
    "])\n",
    "    \n",
    "model = nn_model(train_x, train_y, map, test_x, test_y, iterations=2500, learning_rate=0.0075)"
   ]
  },
  {
   "cell_type": "code",
   "execution_count": null,
   "metadata": {
    "collapsed": true
   },
   "outputs": [],
   "source": []
  },
  {
   "cell_type": "code",
   "execution_count": null,
   "metadata": {
    "collapsed": true
   },
   "outputs": [],
   "source": []
  }
 ],
 "metadata": {
  "kernelspec": {
   "display_name": "Python 3",
   "language": "python",
   "name": "python3"
  },
  "language_info": {
   "codemirror_mode": {
    "name": "ipython",
    "version": 3
   },
   "file_extension": ".py",
   "mimetype": "text/x-python",
   "name": "python",
   "nbconvert_exporter": "python",
   "pygments_lexer": "ipython3",
   "version": "3.6.3"
  }
 },
 "nbformat": 4,
 "nbformat_minor": 2
}
