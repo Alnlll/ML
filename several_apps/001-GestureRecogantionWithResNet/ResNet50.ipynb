{
 "cells": [
  {
   "cell_type": "markdown",
   "metadata": {},
   "source": [
    "# 残差网络\n",
    "\n",
    "## 1、动机\n",
    "   \n",
    "   ### a、基本问题描述\n",
    "   \n",
    "   在一定范围内随着神经网络随着层数增加可以更明确的学习出不同的特征从而提升网络性能。但是由于具体实现时其他问题的干扰导致普通的神经网络在增加层数到一定数量后再进行这样的操作反而会导致性能下降，如下图所示（摘自“Deep Residual Learning for Image Recognition”）：\n",
    "   \n",
    "   ![](./data/images/resnet1.jpg '深层网络问题')\n",
    "   \n",
    "   ### b、梯度消失与爆炸\n",
    "   \n",
    "   导致上述问题其中一个主要的原因就是“梯度消失与爆炸”，那么何为梯度消失于爆炸呢？\n",
    "   \n",
    "   **梯度消失**\n",
    "   \n",
    "    当前向传播的梯度绝对值小于1时，经过多层传播那么其指数性接近于零，导致网络靠前的网络层无法获取传播信息。导致此问题的原因主要有两个：一个是不恰当的选择“激活函数”（如sigmoid等，其在大部分区域梯度接近于0，选择类似“relu”函数等可以有效解决此问题），另一个就是网络过深，在梯度绝对值小于1时，经过多层传播那么其指数性接近于零。\n",
    "    \n",
    "   **梯度爆炸**\n",
    "   \n",
    "    同样由于网络过深当网络较深层梯度绝对值大于1那么在经过多层传播后可能出现指数增长从而超过计算机的表达范围出现训练问题导致系统性能的下降。此问题不是此处残差网络要解决的问题，解决此问题的是如“BatchNorlization”等等类似的方法。\n",
    "    \n",
    "   其实通过以上的描述我们可以了解到只有因为网络过深的“梯度消失”问题还无法有效解决，而“残差网络”的动机就是解决这个问题从而提升网络深度获得更好的性能。\n",
    "    \n",
    "## 2、残差网络\n",
    "   \n",
    "   ![](./data/images/resnet2.jpg '残差网络模型')\n",
    "   \n",
    "   以上为残差网络的简单模型（摘自“Deep Residual Learning for Image Recognition”）,这里我们将其看作一个两层网络，$X$是输入，\n",
    "   \n",
    "   **普通网络**\n",
    "   $$z^{[1]} = W^{[1]}X$$\n",
    "   $$a^{[1]} = relu(z^{[1]})$$\n",
    "   $$z^{[2]} = W^{[2]}a^{[1]}$$\n",
    "   $$a^{[2]} = relu(z^{[2]})$$\n",
    "   \n",
    "   **残差网络**\n",
    "   $$z^{[1]} = W^{[1]}X$$\n",
    "   $$a^{[1]} = relu(z^{[1]})$$\n",
    "   $$z^{[2]} = W^{[2]}a^{[1]} + X$$\n",
    "   $$a^{[2]} = relu(z^{[2]})$$\n",
    "   \n",
    "   如果对比$\\frac{da^{[2]}}{dX}$则可见“残差网络”结果比普通网络多出一项常数项\"1\"，通过此方法保证梯度向前传播更多层。\n",
    "   \n",
    "   **具体实现“残差网络”时需要保证相加项维度相同，并且还有很多其他变种，但基本思想一致。**"
   ]
  },
  {
   "cell_type": "markdown",
   "metadata": {
    "collapsed": true
   },
   "source": [
    "# 3、残差网络应用\n",
    "\n",
    "这里使用“残差网络”建立一个手势图片识别应用\n",
    "\n",
    "## a、输入数据处理"
   ]
  },
  {
   "cell_type": "code",
   "execution_count": 1,
   "metadata": {},
   "outputs": [],
   "source": [
    "import os,sys\n",
    "\n",
    "if not (\"%s/../..\" % os.getcwd()) in sys.path:\n",
    "    sys.path.append(\"%s/../..\" % os.getcwd())"
   ]
  },
  {
   "cell_type": "code",
   "execution_count": 2,
   "metadata": {},
   "outputs": [
    {
     "name": "stderr",
     "output_type": "stream",
     "text": [
      "/home/aln/tools/code/anaconda3/lib/python3.6/site-packages/h5py/__init__.py:36: FutureWarning: Conversion of the second argument of issubdtype from `float` to `np.floating` is deprecated. In future, it will be treated as `np.float64 == np.dtype(float).type`.\n",
      "  from ._conv import register_converters as _register_converters\n",
      "Using TensorFlow backend.\n"
     ]
    }
   ],
   "source": [
    "import numpy as np\n",
    "from arsenal.data_process.load_data import DataHandler\n",
    "from arsenal.data_process.plot_data import Ploter\n",
    "\n",
    "import tensorflow as tf\n",
    "from keras.initializers import glorot_uniform\n",
    "from keras.layers.pooling import AveragePooling2D\n",
    "from keras.layers.core import Flatten\n",
    "from keras.layers import Input, Conv2D, BatchNormalization, Activation, ZeroPadding2D, MaxPooling2D, Dense, Add\n",
    "from keras.models import Model, load_model\n",
    "from keras.preprocessing import image\n",
    "from keras.applications.imagenet_utils import preprocess_input\n",
    "\n",
    "import scipy.misc\n",
    "\n",
    "import keras.backend as K\n",
    "K.set_image_data_format('channels_last')\n",
    "K.set_learning_phase(1)\n",
    "\n",
    "%load_ext autoreload\n",
    "%autoreload 2\n",
    "\n",
    "np.random.seed(1)"
   ]
  },
  {
   "cell_type": "code",
   "execution_count": 3,
   "metadata": {},
   "outputs": [
    {
     "name": "stdout",
     "output_type": "stream",
     "text": [
      "X trainset shape:  (1080, 64, 64, 3)\n",
      "Y trainset shape:  (1080, 6)\n",
      "X testset shape:  (120, 64, 64, 3)\n",
      "Y testset shape:  (120, 6)\n"
     ]
    },
    {
     "data": {
      "image/png": "[encoded data removed]",
      "text/plain": [
       "<matplotlib.figure.Figure at 0x7f803cff2f60>"
      ]
     },
     "metadata": {},
     "output_type": "display_data"
    },
    {
     "name": "stdout",
     "output_type": "stream",
     "text": [
      "index:  20\n"
     ]
    }
   ],
   "source": [
    "train_dataset,train_dataset_keys = DataHandler().load(\"./data/train_signs.h5\")\n",
    "test_dataset,test_dataset_keys = DataHandler().load(\"./data/test_signs.h5\")\n",
    "X_train_orig, Y_train_orig = np.array(train_dataset['train_set_x']), np.array(train_dataset['train_set_y'])\n",
    "X_test_orig, Y_test_orig = np.array(test_dataset['test_set_x']), np.array(test_dataset['test_set_y'])\n",
    "\n",
    "X_train = X_train_orig / 255.\n",
    "X_test = X_test_orig / 255.\n",
    "Y_train = DataHandler().convert_to_one_hot(Y_train_orig, 6).T\n",
    "Y_test = DataHandler().convert_to_one_hot(Y_test_orig, 6).T\n",
    "\n",
    "print(\"X trainset shape: \", X_train.shape)\n",
    "print(\"Y trainset shape: \", Y_train.shape)\n",
    "print(\"X testset shape: \", X_test.shape)\n",
    "print(\"Y testset shape: \", Y_test.shape)\n",
    "\n",
    "index = 20\n",
    "ploter = Ploter()\n",
    "ploter.show_image(X_train_orig[20])\n",
    "ploter.show()\n",
    "print(\"index: \", index)"
   ]
  },
  {
   "cell_type": "markdown",
   "metadata": {},
   "source": [
    "## b、模型介绍及应用\n",
    "\n",
    "这里要使用的基本模块如下，其中$X$会直接传递到3层后，这样可以有更好的抵消“梯度消失”的效果。\n",
    "   \n",
    "<img src=\"./data/images/resnet3.png\" style=\"width:650px;height:150px;\">\n",
    "\n",
    "**step1**\n",
    "\n",
    "- conv: 卷积使用\"n_f1\"个卷积核，shape(1,1), stride(1,1).\"Padding\"模式为\"valid\", 这里规定命名为conv_name_base + '2a'。初始化使用seed=0\n",
    "- BN：Batchnorm 作用在\"通道轴\",命名为bn_name_base + '2a'\n",
    "- activation: 使用Relu函数\n",
    "  \n",
    "**step2**\n",
    "\n",
    "- conv: 卷积使用\"n_f2\"个卷积核，shape(f,f)(由参数指定), stride(1,1).\"Padding\"模式为\"same\", 这里规定命名为conv_name_base + '2b'。初始化使用seed=0。\n",
    "- BN：Batchnorm 作用在\"通道轴\",命名为bn_name_base + '2b'\n",
    "- activation: 使用Relu函数\n",
    "  \n",
    "**step3**\n",
    "\n",
    "- conv: 卷积使用\"n_f3\"个卷积核，shape(1,1), stride(1,1).\"Padding\"模式为\"valid\", 这里规定命名为conv_name_base + '2c'。初始化使用seed=0。\n",
    "- BN：Batchnorm 作用在\"通道轴\",命名为bn_name_base + '2c'\n",
    "- shortcut: 将shortcut与当前计算结果相加后送入“激活函数”\n",
    "- activation: 使用Relu函数"
   ]
  },
  {
   "cell_type": "code",
   "execution_count": 4,
   "metadata": {},
   "outputs": [],
   "source": [
    "\n",
    "def original_block(X, fshape, filters, stage_index, block_str):\n",
    "    '''\n",
    "    \"original\" means shortcut is X.\n",
    "    '''\n",
    "    \n",
    "    conv_name_base = 'conv' + str(stage_index) + block_str + '_branch'\n",
    "    bn_name_base = 'bn' + str(stage_index) + block_str + '_branch'\n",
    "    \n",
    "    n_f1, n_f2, n_f3 = filters\n",
    "    shortcut = X\n",
    "    \n",
    "    # step 1\n",
    "    X = Conv2D(n_f1, (1,1), strides=(1,1), padding='valid', name=conv_name_base+'2a', kernel_initializer=glorot_uniform(seed=0))(X)\n",
    "    X = BatchNormalization(axis=3, name=bn_name_base+'2a')(X)\n",
    "    X = Activation('relu')(X)\n",
    "    \n",
    "    # step 2\n",
    "    X = Conv2D(n_f2, fshape, strides=(1,1), padding='same', name=conv_name_base+'2b', kernel_initializer=glorot_uniform(seed=0))(X)\n",
    "    X = BatchNormalization(axis=3, name=bn_name_base+'2b')(X)\n",
    "    X = Activation('relu')(X)\n",
    "    \n",
    "    # step 3\n",
    "    X = Conv2D(n_f3, (1,1), strides=(1,1), padding='valid', name=conv_name_base+'2c', kernel_initializer=glorot_uniform(seed=0))(X)\n",
    "    X = BatchNormalization(axis=3, name=bn_name_base+'2c')(X)\n",
    "    X = Add()([X, shortcut])\n",
    "    X = Activation('relu')(X)\n",
    "    \n",
    "    return X"
   ]
  },
  {
   "cell_type": "code",
   "execution_count": 5,
   "metadata": {},
   "outputs": [
    {
     "name": "stdout",
     "output_type": "stream",
     "text": [
      "A:  [0.19716819 0.         1.3561226  2.1713073  0.         1.3324987 ]\n"
     ]
    }
   ],
   "source": [
    "tf.reset_default_graph()\n",
    "np.random.seed(1)\n",
    "\n",
    "with tf.Session() as sess:\n",
    "    X = tf.placeholder('float', [3, 4, 4, 6])\n",
    "    A = original_block(X, (2,2), filters=[2, 4, 6], stage_index=1, block_str='a')\n",
    "    sess.run(tf.global_variables_initializer())\n",
    "    \n",
    "    res = sess.run([A], feed_dict={X: np.random.randn(3, 4, 4, 6), K.learning_phase(): 0})\n",
    "    print('A: ', str(res[0][1][1][0]))"
   ]
  },
  {
   "cell_type": "markdown",
   "metadata": {},
   "source": [
    "这里还有另外一种形式的模型需要介绍\n",
    "\n",
    "<img src=\"./data/images/resnet4.png\" style=\"width:650px;height:150px;\">\n",
    "\n",
    "**step1**\n",
    "\n",
    "- conv: 卷积使用\"n_f1\"个卷积核，shape(1,1), stride(s,s)(由参数指定).\"Padding\"模式为\"valid\", 这里规定命名为conv_name_base + '2a'。初始化使用seed=0\n",
    "- BN：Batchnorm 作用在\"通道轴\",命名为bn_name_base + '2a'\n",
    "- activation: 使用Relu函数\n",
    "  \n",
    "**step2**\n",
    "\n",
    "- conv: 卷积使用\"n_f2\"个卷积核，shape(f,f)(由参数指定), stride(1,1).\"Padding\"模式为\"same\", 这里规定命名为conv_name_base + '2b'。初始化使用seed=0。\n",
    "- BN：Batchnorm 作用在\"通道轴\",命名为bn_name_base + '2b'\n",
    "- activation: 使用Relu函数\n",
    "\n",
    "**step3(shortcut)**\n",
    "\n",
    "- conv: 卷积使用\"n_f3\"个卷积核，shape(1,1), stride(s,s).\"Padding\"模式为\"valid\", 这里规定命名为conv_name_base + 's'。初始化使用seed=0。\n",
    "- BN：Batchnorm 作用在\"通道轴\",命名为bn_name_base + 's'\n",
    "\n",
    "**step4**\n",
    "\n",
    "- conv: 卷积使用\"n_f3\"个卷积核，shape(1,1), stride(1,1).\"Padding\"模式为\"valid\", 这里规定命名为conv_name_base + '2c'。初始化使用seed=0。\n",
    "- BN：Batchnorm 作用在\"通道轴\",命名为bn_name_base + '2c'\n",
    "- shortcut: 将shortcut与当前计算结果相加后送入“激活函数”\n",
    "- activation: 使用Relu函数"
   ]
  },
  {
   "cell_type": "code",
   "execution_count": 6,
   "metadata": {},
   "outputs": [],
   "source": [
    "def conv_block(X, fshape, filters, stage_index, block_str, s = 2):\n",
    "    '''\n",
    "    \"conv\" means shortcut is convolution of X.\n",
    "    '''\n",
    "    conv_name_base = 'conv' + str(stage_index) + block_str + '_branch'\n",
    "    bn_name_base = 'bn' + str(stage_index) + block_str + '_branch'\n",
    "    \n",
    "    n_f1, n_f2, n_f3 = filters\n",
    "    shortcut = X\n",
    "    \n",
    "    # step 1\n",
    "    X = Conv2D(n_f1, (1,1), strides=(s,s), padding='valid', name=conv_name_base+'2a', kernel_initializer=glorot_uniform(seed=0))(X)\n",
    "    X = BatchNormalization(axis=3, name=bn_name_base+'2a')(X)\n",
    "    X = Activation('relu')(X)\n",
    "    \n",
    "    # step 2\n",
    "    X = Conv2D(n_f2, fshape, strides=(1,1), padding='same', name=conv_name_base+'2b', kernel_initializer=glorot_uniform(seed=0))(X)\n",
    "    X = BatchNormalization(axis=3, name=bn_name_base+'2b')(X)\n",
    "    X = Activation('relu')(X)\n",
    "    \n",
    "    # shortcut\n",
    "    shortcut = Conv2D(n_f3, (1,1), strides=(s,s), padding='valid', name=conv_name_base+'s', kernel_initializer=glorot_uniform(seed=0))(shortcut)\n",
    "    shortcut = BatchNormalization(axis=3, name=bn_name_base+'s')(shortcut)\n",
    "    # step 3\n",
    "    X = Conv2D(n_f3, (1,1), strides=(1,1), padding='valid', name=conv_name_base+'2c', kernel_initializer=glorot_uniform(seed=0))(X)\n",
    "    X = BatchNormalization(axis=3, name=bn_name_base+'2c')(X)\n",
    "    X = Add()([X, shortcut])\n",
    "    X = Activation('relu')(X)\n",
    "    \n",
    "    return X"
   ]
  },
  {
   "cell_type": "code",
   "execution_count": 7,
   "metadata": {},
   "outputs": [
    {
     "name": "stdout",
     "output_type": "stream",
     "text": [
      "out = [0.09018462 1.2348977  0.46822017 0.03671761 0.         0.65516603]\n"
     ]
    }
   ],
   "source": [
    "tf.reset_default_graph()\n",
    "\n",
    "with tf.Session() as test:\n",
    "    np.random.seed(1)\n",
    "    A_prev = tf.placeholder(\"float\", [3, 4, 4, 6])\n",
    "    X = np.random.randn(3, 4, 4, 6)\n",
    "    A = conv_block(A_prev, (2,2), filters = [2, 4, 6], stage_index = 1, block_str = 'a')\n",
    "    test.run(tf.global_variables_initializer())\n",
    "    out = test.run([A], feed_dict={A_prev: X, K.learning_phase(): 0})\n",
    "    print(\"out = \" + str(out[0][1][1][0]))"
   ]
  },
  {
   "cell_type": "markdown",
   "metadata": {
    "collapsed": true
   },
   "source": [
    "这里使用上述的两种基础模块建立一个深层网络如下用来进行手势图片识别\n",
    "\n",
    "<img src=\"./data/images/resnet5.png\" style=\"width:650px;height:150px;\">\n",
    "\n",
    "模型介绍：\n",
    "\n",
    "**Zero-padding**\n",
    "\n",
    "- ZeroPadding: shape(3, 3)\n",
    "\n",
    "**stage1**\n",
    "\n",
    "- conv: 64个卷积核，shape(7,7), stride(2,2)。\"Padding\"模式为\"valid\", 命名为\"conv1\"。\n",
    "- BN：Batchnorm 作用在\"通道轴\"。\n",
    "- activation: 使用Relu函数\n",
    "- Pooling：使用串口shape为(3,3)，stride(2,2),\"mode\"为\"max\"。\n",
    "  \n",
    "**stage2**\n",
    "\n",
    "- conv_block: fshape=(3,3), filters=[64,64,256], s=1, block_str='a', stage_index=2。\n",
    "- 2 x [original_block]：2个\"original_block\",fshape=(3,3), filters=[64,64,256], stride=(1,1), block_str依次为'b'和'c', stage_index=2。\n",
    "\n",
    "**stage3**\n",
    "\n",
    "- conv_block: fshape=(3,3), filters=[128,128,512], s=2, block_str='a', stage_index=3。\n",
    "- 3 x [original_block]：3个\"original_block\", fshape=(3,3)，filters=[128,128,512], stride=(1,1), block_str依次为'b'、'c'和'd', stage_index=3。\n",
    "\n",
    "**stage4**\n",
    "\n",
    "- conv_block: fshape=(3,3)，filters=[256,256,1024], s=2, block_str为'a', stage_index=4。\n",
    "- 5 x [original_block]：5个\"original_block\", fshape=(3,3)，filters=[256,256,1024], stride=(1,1), block_str依次为'b'、'c'、'd'、'e'和'f', stage_index=4。\n",
    "\n",
    "**stage5**\n",
    "\n",
    "- conv_block: fshape=(3,3)，filters=[518,518,2048], s=2, block_str='a', stage_index=5。\n",
    "- 2 x [original_block]：2个\"original_block\",3个不同卷积核，fshape=(3,3)，filters=[518,518,2048], stride=(1,1), block_str依次为'b'和'c', stage_index=5。\n",
    "\n",
    "**Average Pooling**\n",
    "\n",
    "- Pooling：使用窗口shape为(2,2)，stride(1,1), \"name\"为\"avg-pooling\"。\n",
    "\n",
    "**Flatten**\n",
    "\n",
    "- Flatten\n",
    "\n",
    "**FC**\n",
    "\n",
    "- Activation: 使用“softmax”函数计算最终结果。\n"
   ]
  },
  {
   "cell_type": "code",
   "execution_count": 8,
   "metadata": {},
   "outputs": [],
   "source": [
    "def ResNet50(X_shape, n_y = 6):\n",
    "    \n",
    "    X = Input(X_shape)\n",
    "    \n",
    "    # Zero-Padding\n",
    "    Y = ZeroPadding2D(padding=(3,3))(X)\n",
    "    \n",
    "    # stage1\n",
    "    Y = Conv2D(64, (7,7), strides=(2,2), name='conv1', kernel_initializer=glorot_uniform(seed=0))(Y)\n",
    "    Y = BatchNormalization(axis=3, name='bn1')(Y)\n",
    "    Y = Activation('relu')(Y)\n",
    "    Y = MaxPooling2D(pool_size=(3,3), strides=(2,2))(Y)\n",
    "    \n",
    "    # stage2\n",
    "    Y = conv_block(Y, (3, 3), [64, 64, 256], 2, 'a', s = 1)\n",
    "    Y = original_block(Y, (3, 3), [64, 64, 256], 2, 'b')\n",
    "    Y = original_block(Y, (3, 3), [64, 64, 256], 2, 'c')\n",
    "    \n",
    "    # stage3\n",
    "    Y = conv_block(Y, (3, 3), [128, 128, 512], 3, 'a', s = 2)\n",
    "    Y = original_block(Y, (3, 3), [128, 128, 512], 3, 'b')\n",
    "    Y = original_block(Y, (3, 3), [128, 128, 512], 3, 'c')\n",
    "    Y = original_block(Y, (3, 3), [128, 128, 512], 3, 'd')\n",
    "    \n",
    "    # stage4\n",
    "    Y = conv_block(Y, (3, 3), [256, 256, 1024], 4, 'a', s = 2)\n",
    "    Y = original_block(Y, (3, 3), [256, 256, 1024], 4, 'b')\n",
    "    Y = original_block(Y, (3, 3), [256, 256, 1024], 4, 'c')\n",
    "    Y = original_block(Y, (3, 3), [256, 256, 1024], 4, 'd')\n",
    "    Y = original_block(Y, (3, 3), [256, 256, 1024], 4, 'e')\n",
    "    Y = original_block(Y, (3, 3), [256, 256, 1024], 4, 'f')\n",
    "    \n",
    "    # stage5\n",
    "    Y = conv_block(Y, (3, 3), [512, 512, 2048], 5, 'a', s = 2)\n",
    "    Y = original_block(Y, (3, 3), [512, 512, 2048], 5, 'b')\n",
    "    Y = original_block(Y, (3, 3), [512, 512, 2048], 5, 'c')\n",
    "    \n",
    "    # avg-pooling\n",
    "    Y = AveragePooling2D(pool_size=(2,2), strides=(1,1), padding='valid', name=\"avg-pooling\")(Y)\n",
    "    \n",
    "    # flatten\n",
    "    Y = Flatten()(Y)\n",
    "    \n",
    "    # fc\n",
    "    Y = Dense(n_y, activation='softmax', name='fc', kernel_initializer=glorot_uniform(seed=0))(Y)\n",
    "    \n",
    "    model = Model(inputs = X, outputs = Y, name='ResNet50')\n",
    "    \n",
    "    return model"
   ]
  },
  {
   "cell_type": "code",
   "execution_count": null,
   "metadata": {},
   "outputs": [],
   "source": [
    "model = ResNet50((64,64,3), n_y=6)"
   ]
  },
  {
   "cell_type": "code",
   "execution_count": null,
   "metadata": {},
   "outputs": [
    {
     "name": "stdout",
     "output_type": "stream",
     "text": [
      "Epoch 1/50\n",
      "1080/1080 [==============================] - 20s 19ms/step - loss: 2.3068 - acc: 0.4250\n",
      "Epoch 2/50\n",
      "1080/1080 [==============================] - 6s 6ms/step - loss: 1.0152 - acc: 0.6741\n",
      "Epoch 3/50\n",
      "1080/1080 [==============================] - 6s 6ms/step - loss: 0.5641 - acc: 0.8130\n",
      "Epoch 4/50\n",
      "1080/1080 [==============================] - 6s 6ms/step - loss: 0.6962 - acc: 0.8019\n",
      "Epoch 5/50\n",
      "1080/1080 [==============================] - 6s 6ms/step - loss: 0.3240 - acc: 0.8898\n",
      "Epoch 6/50\n",
      "1080/1080 [==============================] - 6s 6ms/step - loss: 0.2104 - acc: 0.9454\n",
      "Epoch 7/50\n",
      "1080/1080 [==============================] - 6s 6ms/step - loss: 0.0866 - acc: 0.9769\n",
      "Epoch 8/50\n",
      "1080/1080 [==============================] - 6s 6ms/step - loss: 0.1393 - acc: 0.9630\n",
      "Epoch 9/50\n",
      "1080/1080 [==============================] - 6s 6ms/step - loss: 0.3604 - acc: 0.9056\n",
      "Epoch 10/50\n",
      "1080/1080 [==============================] - 6s 6ms/step - loss: 0.1622 - acc: 0.9519\n",
      "Epoch 11/50\n",
      "1080/1080 [==============================] - 6s 6ms/step - loss: 0.1703 - acc: 0.9454\n",
      "Epoch 12/50\n",
      "1080/1080 [==============================] - 6s 6ms/step - loss: 0.0670 - acc: 0.9815\n",
      "Epoch 13/50\n",
      "1080/1080 [==============================] - 6s 6ms/step - loss: 0.0251 - acc: 0.9926\n",
      "Epoch 14/50\n",
      "1080/1080 [==============================] - 6s 6ms/step - loss: 0.0298 - acc: 0.9917\n",
      "Epoch 15/50\n",
      "1080/1080 [==============================] - 6s 6ms/step - loss: 0.0284 - acc: 0.9889\n",
      "Epoch 16/50\n",
      "1080/1080 [==============================] - 6s 6ms/step - loss: 0.0590 - acc: 0.9787\n",
      "Epoch 17/50\n",
      "1080/1080 [==============================] - 7s 6ms/step - loss: 0.0710 - acc: 0.9815\n",
      "Epoch 18/50\n",
      "1080/1080 [==============================] - 7s 6ms/step - loss: 0.0688 - acc: 0.9750\n",
      "Epoch 19/50\n",
      "1080/1080 [==============================] - 6s 6ms/step - loss: 0.0476 - acc: 0.9852\n",
      "Epoch 20/50\n",
      "1080/1080 [==============================] - 6s 6ms/step - loss: 0.0484 - acc: 0.9824\n",
      "Epoch 21/50\n",
      "1080/1080 [==============================] - 6s 6ms/step - loss: 0.0558 - acc: 0.9787\n",
      "Epoch 22/50\n",
      "1080/1080 [==============================] - 7s 6ms/step - loss: 0.0659 - acc: 0.9750\n",
      "Epoch 23/50\n",
      "1080/1080 [==============================] - 7s 6ms/step - loss: 0.6709 - acc: 0.7981\n",
      "Epoch 24/50\n",
      "1080/1080 [==============================] - 7s 6ms/step - loss: 0.3330 - acc: 0.8861\n",
      "Epoch 25/50\n",
      "1080/1080 [==============================] - 7s 6ms/step - loss: 0.1714 - acc: 0.9500\n",
      "Epoch 26/50\n",
      "1080/1080 [==============================] - 6s 6ms/step - loss: 0.1047 - acc: 0.9611\n",
      "Epoch 27/50\n",
      "1080/1080 [==============================] - 6s 6ms/step - loss: 0.1219 - acc: 0.9519\n",
      "Epoch 28/50\n",
      "1080/1080 [==============================] - 7s 6ms/step - loss: 0.0872 - acc: 0.9796A: 3s - loss: \n",
      "Epoch 29/50\n",
      "1080/1080 [==============================] - 7s 6ms/step - loss: 0.0244 - acc: 0.9898\n",
      "Epoch 30/50\n",
      "1080/1080 [==============================] - 7s 6ms/step - loss: 0.0171 - acc: 0.9954\n",
      "Epoch 31/50\n",
      "1080/1080 [==============================] - 7s 6ms/step - loss: 0.0058 - acc: 0.9981\n",
      "Epoch 32/50\n",
      "1080/1080 [==============================] - 6s 6ms/step - loss: 0.0107 - acc: 0.9981\n",
      "Epoch 33/50\n",
      "1080/1080 [==============================] - 6s 6ms/step - loss: 0.0036 - acc: 0.9991\n",
      "Epoch 34/50\n",
      "1080/1080 [==============================] - 6s 6ms/step - loss: 0.0017 - acc: 0.9991\n",
      "Epoch 35/50\n",
      "1080/1080 [==============================] - 6s 6ms/step - loss: 0.0024 - acc: 0.9991\n",
      "Epoch 36/50\n",
      "1080/1080 [==============================] - 6s 6ms/step - loss: 8.6563e-04 - acc: 1.0000\n",
      "Epoch 37/50\n",
      "1080/1080 [==============================] - 6s 6ms/step - loss: 0.0021 - acc: 0.9991\n",
      "Epoch 38/50\n",
      "1080/1080 [==============================] - 6s 6ms/step - loss: 0.0035 - acc: 0.9991\n",
      "Epoch 39/50\n",
      "1080/1080 [==============================] - 6s 6ms/step - loss: 0.0010 - acc: 1.0000\n",
      "Epoch 40/50\n",
      "1080/1080 [==============================] - 6s 6ms/step - loss: 8.7665e-04 - acc: 1.0000\n",
      "Epoch 41/50\n",
      "1080/1080 [==============================] - 6s 6ms/step - loss: 2.5256e-04 - acc: 1.0000\n",
      "Epoch 42/50\n",
      "1080/1080 [==============================] - 6s 6ms/step - loss: 2.4144e-04 - acc: 1.0000\n",
      "Epoch 43/50\n",
      "1080/1080 [==============================] - 6s 6ms/step - loss: 3.2357e-04 - acc: 1.0000\n",
      "Epoch 44/50\n",
      "1080/1080 [==============================] - 6s 6ms/step - loss: 8.6673e-05 - acc: 1.0000\n",
      "Epoch 45/50\n",
      "1080/1080 [==============================] - 6s 6ms/step - loss: 1.6258e-04 - acc: 1.0000\n",
      "Epoch 46/50\n",
      "1080/1080 [==============================] - 6s 6ms/step - loss: 3.4051e-04 - acc: 1.0000\n",
      "Epoch 47/50\n",
      "1080/1080 [==============================] - 6s 6ms/step - loss: 8.5394e-05 - acc: 1.0000\n",
      "Epoch 48/50\n",
      "1080/1080 [==============================] - 7s 6ms/step - loss: 0.0600 - acc: 0.9963- ETA: 3s - loss: 5.318\n",
      "Epoch 49/50\n",
      "1080/1080 [==============================] - 7s 6ms/step - loss: 3.9325e-05 - acc: 1.0000\n",
      "Epoch 50/50\n",
      " 384/1080 [=========>....................] - ETA: 4s - loss: 0.0094 - acc: 0.9974"
     ]
    }
   ],
   "source": [
    "model.compile(optimizer='adam', loss='categorical_crossentropy', metrics=['accuracy'])\n",
    "\n",
    "model.fit(X_train, Y_train, epochs=50, batch_size=32)"
   ]
  },
  {
   "cell_type": "code",
   "execution_count": null,
   "metadata": {},
   "outputs": [],
   "source": [
    "res = model.evaluate(X_test, Y_test)\n",
    "print(\"Loss: \", str(res[0]))\n",
    "print(\"Test Accuracy: \", str(res[1]))"
   ]
  },
  {
   "cell_type": "markdown",
   "metadata": {},
   "source": [
    "**使用预训练模型**"
   ]
  },
  {
   "cell_type": "code",
   "execution_count": null,
   "metadata": {},
   "outputs": [],
   "source": [
    "model = load_model('ResNet50.h5')\n",
    "res = model.evaluate(X_test, Y_test)\n",
    "print(\"Loss: \", str(res[0]))\n",
    "print(\"Test Accuracy: \", str(res[1]))"
   ]
  },
  {
   "cell_type": "code",
   "execution_count": null,
   "metadata": {},
   "outputs": [],
   "source": [
    "img_path = 'data/images/my_image.jpg'\n",
    "img = image.load_img(img_path, target_size=(64, 64))\n",
    "x = image.img_to_array(img)\n",
    "x = np.expand_dims(x, axis=0)\n",
    "x = preprocess_input(x)\n",
    "print('Input image shape:', x.shape)\n",
    "my_image = scipy.misc.imread(img_path)\n",
    "ploter.show_image(my_image)\n",
    "ploter.show()\n",
    "print(\"class prediction vector [p(0), p(1), p(2), p(3), p(4), p(5)] = \")\n",
    "\n",
    "predict = model.predict(x)\n",
    "print(\"Number: \", np.where(np.max(predict) == predict)[1][0])"
   ]
  },
  {
   "cell_type": "code",
   "execution_count": null,
   "metadata": {},
   "outputs": [],
   "source": [
    "model.summary()"
   ]
  },
  {
   "cell_type": "code",
   "execution_count": null,
   "metadata": {},
   "outputs": [],
   "source": []
  }
 ],
 "metadata": {
  "kernelspec": {
   "display_name": "Python 3",
   "language": "python",
   "name": "python3"
  },
  "language_info": {
   "codemirror_mode": {
    "name": "ipython",
    "version": 3
   },
   "file_extension": ".py",
   "mimetype": "text/x-python",
   "name": "python",
   "nbconvert_exporter": "python",
   "pygments_lexer": "ipython3",
   "version": "3.6.4"
  }
 },
 "nbformat": 4,
 "nbformat_minor": 2
}
